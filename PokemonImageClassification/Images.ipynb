{
  "nbformat": 4,
  "nbformat_minor": 0,
  "metadata": {
    "colab": {
      "provenance": [],
      "collapsed_sections": []
    },
    "kernelspec": {
      "name": "python3",
      "display_name": "Python 3"
    },
    "language_info": {
      "name": "python"
    }
  },
  "cells": [
    {
      "cell_type": "markdown",
      "source": [
        "we will use the CIFAR-10 dataset. https://www.cs.toronto.edu/~kriz/cifar.html\n",
        "\n",
        "The first thing we need to do is to get the image dataset. We do so with Keras - Keras is now a part of tensorflow https://keras.io/\n",
        "\n",
        "\n"
      ],
      "metadata": {
        "id": "BhiARtw8yljA"
      }
    },
    {
      "cell_type": "markdown",
      "source": [
        "Now, the data that we need are stored in the respective arrays (x_train, y_train, x_test and y_test). Let us explore the dataset a little."
      ],
      "metadata": {
        "id": "vsds3krHzZLd"
      }
    },
    {
      "cell_type": "code",
      "execution_count": null,
      "metadata": {
        "colab": {
          "base_uri": "https://localhost:8080/"
        },
        "id": "SVbo2QkQLasB",
        "outputId": "de437cf4-6038-4d9c-b4c4-462b2742a854"
      },
      "outputs": [
        {
          "output_type": "stream",
          "name": "stdout",
          "text": [
            "Downloading data from https://www.cs.toronto.edu/~kriz/cifar-10-python.tar.gz\n",
            "170500096/170498071 [==============================] - 3s 0us/step\n",
            "170508288/170498071 [==============================] - 3s 0us/step\n"
          ]
        }
      ],
      "source": [
        "from keras.datasets import cifar10\n",
        "(x_train, y_train), (x_test, y_test) = cifar10.load_data()"
      ]
    },
    {
      "cell_type": "markdown",
      "source": [
        "the shape of our input features array is"
      ],
      "metadata": {
        "id": "8b0Ns_pfy9do"
      }
    },
    {
      "cell_type": "code",
      "source": [
        "print('x_train shape:', x_train.shape)"
      ],
      "metadata": {
        "colab": {
          "base_uri": "https://localhost:8080/"
        },
        "id": "ON-BREWSL0CU",
        "outputId": "46d3d626-f85d-449c-8746-1414385e009c"
      },
      "execution_count": null,
      "outputs": [
        {
          "output_type": "stream",
          "name": "stdout",
          "text": [
            "x_train shape: (50000, 32, 32, 3)\n"
          ]
        }
      ]
    },
    {
      "cell_type": "markdown",
      "source": [
        "50000 images\n",
        "32 pixels in height\n",
        "32 pixels in width\n",
        "3 pixels in depth (corresponding to Red, Green and Blue)\n",
        "Let’s see what the shape of the label array is:"
      ],
      "metadata": {
        "id": "fFbE309PziDg"
      }
    },
    {
      "cell_type": "code",
      "source": [
        "print('y_train shape:', y_train.shape)"
      ],
      "metadata": {
        "colab": {
          "base_uri": "https://localhost:8080/"
        },
        "id": "EmpjrruAL4eN",
        "outputId": "dfccd76d-a0b6-4147-98db-9839a73d46b2"
      },
      "execution_count": null,
      "outputs": [
        {
          "output_type": "stream",
          "name": "stdout",
          "text": [
            "y_train shape: (50000, 1)\n"
          ]
        }
      ]
    },
    {
      "cell_type": "markdown",
      "source": [
        "one number (corresponding to the label) for each of out 50000 images.\n",
        "\n",
        "what does teh computer see before we flatten this image\n"
      ],
      "metadata": {
        "id": "UyzDwBKUztKL"
      }
    },
    {
      "cell_type": "code",
      "source": [
        "print(x_train[0])"
      ],
      "metadata": {
        "colab": {
          "base_uri": "https://localhost:8080/"
        },
        "id": "mKQOSptnL8V-",
        "outputId": "12b4e846-5a98-478f-be52-1ae00894130a"
      },
      "execution_count": null,
      "outputs": [
        {
          "output_type": "stream",
          "name": "stdout",
          "text": [
            "[[[ 59  62  63]\n",
            "  [ 43  46  45]\n",
            "  [ 50  48  43]\n",
            "  ...\n",
            "  [158 132 108]\n",
            "  [152 125 102]\n",
            "  [148 124 103]]\n",
            "\n",
            " [[ 16  20  20]\n",
            "  [  0   0   0]\n",
            "  [ 18   8   0]\n",
            "  ...\n",
            "  [123  88  55]\n",
            "  [119  83  50]\n",
            "  [122  87  57]]\n",
            "\n",
            " [[ 25  24  21]\n",
            "  [ 16   7   0]\n",
            "  [ 49  27   8]\n",
            "  ...\n",
            "  [118  84  50]\n",
            "  [120  84  50]\n",
            "  [109  73  42]]\n",
            "\n",
            " ...\n",
            "\n",
            " [[208 170  96]\n",
            "  [201 153  34]\n",
            "  [198 161  26]\n",
            "  ...\n",
            "  [160 133  70]\n",
            "  [ 56  31   7]\n",
            "  [ 53  34  20]]\n",
            "\n",
            " [[180 139  96]\n",
            "  [173 123  42]\n",
            "  [186 144  30]\n",
            "  ...\n",
            "  [184 148  94]\n",
            "  [ 97  62  34]\n",
            "  [ 83  53  34]]\n",
            "\n",
            " [[177 144 116]\n",
            "  [168 129  94]\n",
            "  [179 142  87]\n",
            "  ...\n",
            "  [216 184 140]\n",
            "  [151 118  84]\n",
            "  [123  92  72]]]\n"
          ]
        }
      ]
    },
    {
      "cell_type": "markdown",
      "source": [
        "visualize this image of x_train[0] using the matplotlib package:"
      ],
      "metadata": {
        "id": "H5sJqi990APn"
      }
    },
    {
      "cell_type": "markdown",
      "source": [
        "The %matplotlib inline tells the notebook that you wish for the image to display within the image. plt.imshow is a function that displays the numbered pixel values in x_train[0]to the actual image it represents"
      ],
      "metadata": {
        "id": "1yF07zkq0IBA"
      }
    },
    {
      "cell_type": "code",
      "source": [
        "import matplotlib.pyplot as plt\n",
        "%matplotlib inline\n",
        "img = plt.imshow(x_train[0])"
      ],
      "metadata": {
        "colab": {
          "base_uri": "https://localhost:8080/",
          "height": 266
        },
        "id": "R2sW52kUMBKc",
        "outputId": "952b2eed-6cd8-4b64-90e6-fe014068a0c8"
      },
      "execution_count": null,
      "outputs": [
        {
          "output_type": "display_data",
          "data": {
            "text/plain": [
              "<Figure size 432x288 with 1 Axes>"
            ],
            "image/png": "[encoded data removed]"
          },
          "metadata": {
            "needs_background": "light"
          }
        }
      ]
    },
    {
      "cell_type": "markdown",
      "source": [
        "its a frog!  or the ender dragon.  \n",
        "size of the image is 32 * 32 pixels, which is tiny\n",
        "what is the label of this image is in our dataset:"
      ],
      "metadata": {
        "id": "fb07aKzT0KgN"
      }
    },
    {
      "cell_type": "code",
      "source": [
        "print('The label is:', y_train[0])"
      ],
      "metadata": {
        "colab": {
          "base_uri": "https://localhost:8080/"
        },
        "id": "qjgBqJNkMJcm",
        "outputId": "77764501-4196-4e47-bb2c-329eaccf8f78"
      },
      "execution_count": null,
      "outputs": [
        {
          "output_type": "stream",
          "name": "stdout",
          "text": [
            "The label is: [6]\n"
          ]
        }
      ]
    },
    {
      "cell_type": "markdown",
      "source": [
        "We see that the label is the number ‘6’. The conversion of numbers to the label is alphabetically sorted as follows:\n",
        "![DS.png](data:image/png;base64,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)"
      ],
      "metadata": {
        "id": "_M3r07ap0vEr"
      }
    },
    {
      "cell_type": "code",
      "source": [
        "img = plt.imshow(x_train[1])"
      ],
      "metadata": {
        "colab": {
          "base_uri": "https://localhost:8080/",
          "height": 266
        },
        "id": "wtRMMnN9MUeC",
        "outputId": "b33ee2a0-f54c-42f2-bac7-b8d75b0d00e8"
      },
      "execution_count": null,
      "outputs": [
        {
          "output_type": "display_data",
          "data": {
            "text/plain": [
              "<Figure size 432x288 with 1 Axes>"
            ],
            "image/png": "[encoded data removed]"
          },
          "metadata": {
            "needs_background": "light"
          }
        }
      ]
    },
    {
      "cell_type": "markdown",
      "source": [
        "we can look at other items in teh picture array. "
      ],
      "metadata": {
        "id": "FJ_BTTjt1IqM"
      }
    },
    {
      "cell_type": "code",
      "source": [
        "print('The label is:', y_train[1])"
      ],
      "metadata": {
        "colab": {
          "base_uri": "https://localhost:8080/"
        },
        "id": "2bz9rw6JMYrm",
        "outputId": "8f27cdb7-6801-4c66-8ad7-4800321195fe"
      },
      "execution_count": null,
      "outputs": [
        {
          "output_type": "stream",
          "name": "stdout",
          "text": [
            "The label is: [9]\n"
          ]
        }
      ]
    },
    {
      "cell_type": "markdown",
      "source": [
        "now we need to train / process the model.  with only two classes, we can interpret the output of the neural network as a probability. That is, if the neural network outputs 0.6, it means it believes it is above our threshold and it is a chair. This doesn’t work in a multi-class setting like this, where the image can belong to one of 10 different classes.\n",
        "\n",
        "What we really want is the probability of each of the 10 different classes. For that, we need 10 output neurons in our neural network. Since we have 10 output neurons, our labels must match this as well.\n",
        "\n",
        "To do this, we convert the label into a set of 10 numbers where each number represents if the image belongs to that class or not. So if an image belongs to the first class, the first number of this set will be a 1 and all other numbers in this set will be a 0. This is called a one-hot encoding, and the conversion table now looks like this:\n",
        "![image.png](data:image/png;base64,iVBORw0KGgoAAAANSUhEUgAAAjoAAAFXCAYAAACryuTZAAAgAElEQVR4nOy934sb2Zn//64vufWPUu+VGZqlSwNrvODBqbYX2x2wYbp6J2GJ2clKTsJimCUeiRBIyHZn5BmWZcaeHBGyMEy61csOhLCJ1IyXQFj1p9UB+0Ky2bZlI7E2XpguEZJhrkqRf/wB53vRc8ol1Q+Vuqq6pNLzAkG3znlOnVK965ynzo+nJM45B0EQBEEQRAL5/+KuAEEQBEEQRFSQo0MQBEEQRGIhR4cgCIIgiMRCjg5BEARBEInlK6NkliQpqnoQBEEQBEHsG7e9VSM5Ol4FEcSoSJJEeiJChTRFENOJ10AMTV0RBEEQBJFYyNEhCIIgCCKxkKNDEARBEERiIUeHIAiCIIjEQo4OQRAEQRCJhRydGNjc3IQkSZAkCe12O+7qEGNKp9NBKpWCJElYX18PtWzSIBEGpKPoyGazkCQJqVQq7qpMPIlwdKw3WyqVQqVSseVZX18fG9E8evTI/PvFixcx1oQIk3a7beowDMfkiy++QK/XAwA8e/YscHlWSIPjTbfbRbFYxPz8vKkpSZKwtLSE9fV1dLvduKsIgHQUJU+fPgUAsw0A+vu6zc3NuKo2cSTC0bHebL1eD++++64tj+gorKIhiDCxNvRhOybE9LC5uYlXX30VKysraDabfWm1Wg1vv/02zpw5g06nE1MND46wHx4mHWtfZ/2b8CYRjo4VRVGg67rjqA5BEMQ402638d3vftd8ICuVSjAMA5xztFotZDIZAICu6+bfSYYeHvr567/+a8e/CW8S5+h873vfAwD88pe/jLkmBEEQo/Hhhx/2OTlXr17FzMwMAODkyZOoVCpQFAUA0Gw2afpiynjjjTfAOQfnHG+88Ubc1ZkYEufovPXWW5BlGbVaDY1GwzOv17Co00KwSqViftftdpHP583FovPz82ajUywWkU6nIUkS0um055Dr8+fPce3aNbOcdDrt2HiJ44lyJUlCNpu1naO1ju12G0tLS2ZeYjzodDq2azk/P49isehpt76+btqkUinX/INrO+bn52mEcwLodrvY2NgAAMiyjKtXrzrm++d//mfz7zt37ph/C22sr69jc3OzTwP5fN5xXc/m5qbZRoj2p1gs7msN0PPnz1EsFn21ZYMaTafTyOfzfdNx2WwWCwsL5v8rKyu+11n6Oa9Op9O3kNrabrvdX6Lug+3w4ELsRqOBbDZr/hZifZXTfSjKtP5ubver0+Lv/ZyHaIOs9bN+EjdNyEdgxOwHBmOMAzDrJ/7XNM01D+ec1+t18zvGWF+ZmqbZ8lvLkGXZ/Nv6UVXV8ftyuTxSOdVq1cxvGIZrvsG8bmVbf4txYVz1tF+89CTQdd31OgLghULBsTy362/Nz3m/br3yWnVSr9ej+UFiYJI1Zb3eXverW75hWhks06oBp3bMD37aMqu+DMNwbSNFGbquc845z2Qyrnn81snrvPzcX4P3sVvdrb9tuVz2fY97naf143Ru4ncd9TyG9ScAeKlU8nX9xwmvez9xIzpA/6hOlAv2qtUqOOcoFArmd81mE4VCAZxzVKtV83uvqbRyuQzOOcrlsvndD37wA/Pv9957zxzOrtfr4JxD13WoqmrLa6XX65llM8b2d5JE6MiyDMYYdF03r6UsywCAtbU1R5terwfGGAzDQKvVMvPfuHHD1HilUkGtVgMAMMbAOYdhGMjlcra8RHLp9XrIZDIwDAOGYZjtRK1W6xsFWFlZAQAzL+ccpVIJwF47tp9RQNEmWtuyjz/+2Pz7vffeMxdYl0olU6OiDe31evjZz34GYE/P9XrdtBWa/vOf/+x6/P2el7i/+JdrocT99dOf/tTMU6lUzLrncjnz97W2rZ1OB5cvXwYAqKpq3uP1et2ccrTeh41GwxzFU1XVLHO/66/8nMfNmzdt/Yn1erVaLdfRxIklLI8pTpxGa8R3uVzONU+QER3rKIr1KX3wSUhRFNv31nIGPWfrE4N4shH/i3NxKqfVatm+cxtVGBfGVU/7xc+IjhtOerOWl8lk+vIXCgUzTYwWijIURXGtl9AbjeiMH2GN6Ay2QU7X2vqdaGcGyxnUnBNubaK1HD915PxlW2kdsRn1nhrlvKxle42MOn1nGMbIv4d1pMfpPhzMb+0LnMp3GtHxcx5OMx7W32cSR3M4n8IRHQB48803Aew9IUfxFHv48GHz77m5OfNvsXBQkE6nAcC2TVRw4sSJvv+/9a1vmX9/8cUXfWtw1tbW+uZRxZML4BzD4uzZs35OhThgxPy9dZ5fjMS4cerUqb7///Zv/9b8+49//CMAmGXout6nE+s6B9q5knwG2yAnbt26Zf6tKEqfXgQijot1rYv4OK37sLaJTljXsSwuLtrSRVsZJATIKOdl5ciRI0PLFveXpmmuv/HDhw/Nv8+cOdOX9sorr5h/i/vQWt/B/H6u4yB+zkPksa5jtY5yDfZJSSCxjs7c3Jw5ZH/z5s2Ya+Of/XZEhw4dCrkmRBRsbm5iYWEBGxsb0HV93+U8f/58X3Z+GkIiHo4dO2b+vbu765rv//2//2f+ffHixcjqc/To0VDLsz6MxanDsM/LitWJGtVR2Y9jsx/efPNNc0prYWEBkiT1TbedP3/+QOpxkCTW0QGAH//4xwD65yfdGHQwDiry6OPHj/v+397eNv8+fvw4jh8/bv6fy+XMrYWDn5MnTx5IfYlg/OpXvzL/FusZOOfQNM3TzvqkCPTvthHxNMRaDEVRXHWSuLn3BDE3N2eu49B13XHXaLfb7VvHJUauR+WrX/2q+bdYRzL4EU/5W1tbtrTl5eWRj2ntQD/99FNbunDuxG+wH0Y5r1GxrnVy6x+sjufgjrPPP//c/Ht2dtZW38H8Xs5uEH7/+9+j1+tBlmXzt5ZlGblcDltbW5EcM24S7eiIUZ1er4d///d/t6Vbb7yNjQ10Oh1zG7fbVFPYvPPOO6bArYvdVFXFzMwMZmZmzE6wUqn03aTtdhvXrl3D0tLSgdSVCI71ie+v/uqvAOxNZd27d8/TbmNjw5wuaLfbfZ2dGPIW0566rvdtpe10OlhfXx+L158Q3nzwwQfm33/3d3/Xd783Gg0sLS2ZUzuFQqFv2nwUrFOfhULBnN7vdruoVCqYn58fGp5jP4i2rNlsmluYRZsrRjhFLDSgf6RaTPN4vVMryvOyLit47733zPurUqmY4TusywX+5V/+pW/RcT6fB7DnVLz++usAgHPnzvXl73a76Ha7yGazgUZ8vRAbYxYXF7G7u2su8F5dXT2wUaUDJ6zFPnHitNBY4LSd10oul3PcXmfdfud0nMEFnOL7wQVe+92mbi2/1Wp5bgd020Y/7otMx1VP+8W6KNDtmg7bemr9TfazbdRr665fLU8ySdCUW5tk/QxuTODcvQ1yu9bDjuNHF6O2icPaMlVVbQt9xSJltzZ81N/PaRGvn80ohmE41mXwHIcd3xpqhHP3Lev7WYzs5zysGxmsH0VReCaTMTe2TBpeukjEiI6Y7xXzjlbm5ub6tv+J4UfB+++/j1wuZ9qqqopyuYzV1VVbmWK4EbCviRH5Bp+wxHywdThWlCPLMj777DNzLZE4fr1e7xttOnnyJJrNJnK5XF85qqqCMYZf//rXvupIRIuf3zubzaJUKvVdx0wmY4YisOrNumbj9u3bYIyZ6YqioFQq9U0hzMzMYGtrC4yxPp0rioJcLtf3hEg6GV9WV1dRr9dt97ssy8hkMqjX62b7ZEXkHVyD4natV1dXUS6X+6ZNrcfws1bDS0dO9bG2ZVati7bs/v37tlGF//qv/+rT87BpXr/nZb2/BtcMiXbcWseZmRns7Oz01V2Ua+1jxPGtdRb5Wq2WLXjr1taWrQ+qVqv4t3/7N1sdnH7vUc/jH/7hH+CEruvY2NjAhQsXxualsWEhfekJ+cssSRghO0F4QnoiwoY0RRDudLtdvPrqq2asJevU6LVr13Djxg0A8O3ojhNe934iRnQIgiAIgvDmyZMnfdv3rev4rCO+SRvlpREdIjZIT0TYkKYIwpt0Ou250DmXyzlOjY47NKJDEARBEAS2t7dt67+AvbVP1vWpSYJGdIjYID0RYUOaIojphEZ0CIIgCIKYSsjRIQiCIAgisZCjQxAEQRBEYiFHhyAIgiCIxPKVUQ2sr7sniKCQnoiwIU0RBGFlZEeHdjQQYUE7ZIiwIU0RxHTi9YBDU1cEQRAEQSQWcnQIgiAIgkgs5OgQBEEQBJFYyNEhCIIgCCKxkKNDEARBEERiIUeHICaAYrEISZLQbrfjrgoRAalUCpIkQZIkLC0txV0dYkoRGpQkCdlsNu7qhAY5OiHR7XZRLBaRTqf7hEId03SQSqWQSqUiP86LFy8iPwZx8PR6PSiKAsYYrly54phnfX0dqVRqZEeo0+kgn8+bzlQqlUI+n0e32/VlH7RtC6NtrFQqmJ+fN+3n5+exubl5YPaNRgPZbNa0T6fTKBaLB2Yf9Br6tWeMgTEGAHj69Knv+o09fARGzD5VqKrKAXBN0zhjjOdyOQ6Ay7LMW61W3NUbS5KkJ1mWuSzLkZXPGOMAeL1ej+wYSWBSNSXaDicMw+CZTIYD8MznhK7rXJZlDoDncjnOGOOapnEAXFVVbhjG0DKCtm1B7QuFAgfAFUXhjDFeKBTMcyqXy5HbV6tVs76FQoEzxriiKOZvGrV90Gu4H/tRdTYOeN375OiEQLlcdhRtqVTiAHgmk4mpZuMN6ck/5Oj4Y1I15dax6LrOFUXhsiybHeYoHZBwKgY7dOE4lUolT/ugbVtQe13XHTvkVqtlOg9R2nPOzd/f6pQZhmE6K8OctaD2Qa/hfuzJ0SFsiCcWJ89YiNnPk9O0QXryDzk6/phUTbl1LNVqlauqynVd98znhGEYZic/iNUB8CJo2xbUXozGVKtVW5rowJ3SwrIXzmWhULClCSfOKS0s+6DXcL/2SXN0aI1OCDSbTaiqipmZGVuaqqoAgCdPnhx0tYgQqFQqWFpaGjq3vrS0ZFujIxYQd7tds4x0Om2mS5KE9fV1tNvtvvn7bDaLTqcTev2WlpbQ6XRsx3JaK0FrzsaDM2fO4P79+5ibmxvZVrQ5i4uLtrS5uTnIsoxms+lZRtC2Laj9gwcPAOz9DoOcPHkSAPDo0aPI7EXauXPnbGnHjx/vO0YU9kGvYRgaSALk6ARENPxONzIAnDp16iCrQ4TI+vo6Ll++jG6327dIb2VlxdGZ6PV6juUsLS1hd3cXjDGzcRf8x3/8B1577TU8ffoUjDFomoaNjQ0sLi4OXWg4av12d3ehqiqazSYYY8hkMtjY2MDf//3f9+UTjtnKygoWFxfBGEMul8P29jYuXLjg2wkjguPWrvjh8ePHAIAjR444pp8+fdrTPmjbFkbbeO/ePdcyTpw4Ebn9w4cPAQCHDx+2pQlHKUr7oNcwqH1SIEcnIH53wdy9ezfimhBhc+LECbRaLdy/fx/Ly8tYXl7Gzs4OAODTTz/1XU6v18POzg6Wl5dRqVT60prNJsrlMra2trC8vIytrS1kMhnouo6bN2+GWj9d15HNZrG7u2vWRRzLugPlk08+Meu1urqK5eVlrK6u4vbt2+j1evjZz37m+9yJ+Hj27JmvfI1Gw/H7oG1bGG2j28ODlVu3bkVm72fnUa1Wi8w+6DUMap8UyNE5INw8amJ8OX/+vO2pa2ZmBpqmjTTc+9FHH7k+1WqaZotX8f3vfx8AcPv27dDrt7q62vf/P/7jPwLoH74XTtIrr7yCRqNhfkTHdf/+fc96EZPFoUOHAtkHbduC2h89ejRWe1mWY7UHgl/DoPbjzlfirsC04GeYlBg/Op0Obt68iYcPH5pPZ2I43C9Ow9ZeiLl7P0+DQevnVDfhJC0sLDja6Lruu3xi/PEzheJF0LYtqH3Q5QFB7YNO/4QxfRT0Gga1H3fI0QnI+fPnAcB1PYWYoyUmj0qlgsuXL8ddDVeirl+9Xnf8PulPf0nh7NmzANynL4Y5xEHbtjDaRk3TUKvV0O12baOiYv1JlPYXL15ErVbD8+fPbWl+FuYHtQ96DYPaJwWaugoBRVHQbDYdb+hmswlZls2bnpgc8vk8AKBcLsMwDPC9cAzQNC3S44p1NsN22kRVP0VRAOx1VE6fpD/9JYVjx44BALa3t21pnU4HvV4PmUzGs4ygbVtQe3EPiHvCinAUvPQe1H52dhYAcOfOHVua2NF06dKlyOyDXsMwNJAEyNEJASGUTz75pO/79fV1cwEoMXn0ej2oqopsNms+DXY6Hezu7oZ2jFqtZlug/NFHHwEAvva1r8VSP7EV1WnnVrvdTvzCxaQwNzdn7rIbvGaFQgEA8M1vftOzjKBtW1D7b3zjGwBe3hOCdruNtbU1KIri6XgHtX/99dcBAGtra33OWrfbxbvvvtuXJwr7oNcwDA0kgrAC8kwzhmGYIbYzmYwtzDkFC3Rm3PUkwqRbQ9eLVz0M1l3ktTIsyJ/Qh/UY1tDsw8oKWj/OOa/X6xwAZ4yZ31n1LMpmjPmOxBon464pN+ASoE3XdfP3FxoQrzJgjHkGu+P85fWVZdkW/t9PQLigbVsYbaP1nhh8hYOfAJpB7a2/++ArHKz3TVT2Qa/hfuz9lj1OeN375OiEhK7rZkdjFRU5Oe6Mu54Mw+i7poqi8FKpxBljttDxmqbZvhMNnFuId9GYVKtVs+ET78MZ1I1TWUHrx/nLRnDQeRFli3qJuvp5N1CcjLum3HDrWMT1cfv4eb1MvV7ve1eWcJT8ErRtC2pvGEafcyDO2+87BIPac74XxVhEeRZO0zAnM0z7oNdwVPukOTrSlxl8IUkSRshOEJ5Mu54kSYKmadja2oq7KolhUjVFWiDGiUnUo9e9T7uuCIIgxoDd3V0Ui0XMzs7Suj4iFpzW5SUBcnQIgiBiRpZl6LqOlZUVxyCSBHEQrKysmH8HDaQ4TpCjQxAxkqTGhNg/f/7zn+OuAkFM5LSvH8jRIYiYSGqjQhAEMU5QHB2CIAiCIBILOToEQRAEQSQWcnQIgiAIgkgsI6/RkSQpinoQUwrpiQgb0hRBEFZGdnRoASURFpMa3I0YX0hTBDGdeD3g0NQVQRAEQRCJhRwdgiAIgiASCzk6BEEQBEEkFnJ0CIIgCIJILOToEARBEASRWMjRIYgpRZKkQC+PbDQakCQJ6+vrIdZqOkmlUpAkCZIkYWlpKe7qEFOK0GDQtmHcIEcnZBqNBtLpNMXyICaCp0+f+sq3vr7u6tQ8e/Ys7GpNHb1eD4qigDGGK1eu9KV1Oh3k83nTGUqlUsjn8+h2uyMdY319HalUamRHqtvtolgsmu2a6ATb7faB2ANApVLB/Py8aT8/P4/Nzc0Ds280Gshms6Z9Op1GsVg8MPugGvBrzxgDYwyA/7ZhIuAjMGL2qYMxxgGYH8KbSf+NMpnMRJ8DAK5pmq+8pVKJA+ClUsn8rl6vcwCcMRZVFUdmUq+H27XQdZ3LsswB8FwuxxljXNM0DoCrqsoNwxhatmEYplZHueYCVVVNO8YYz+VyHACXZZm3Wq3I7QuFAgfAFUXhjDFeKBTM36RcLkduX61WzfoWCgXOGOOKopjXJGr7oBrYj/1+dBI3Xvc+OTohIYRjFRHhzaT/RpN+nYM2ZuTohIfbtRBOwWCHLBwXq+PphK7rXFEULsuy2eGOcs3L5bJjhywc30wmE6m9ruuOHXKr1TKdhyjtOefm72d1ygzDMJ2VYc5aUPugGtiPPTk6hA3DMLgsy7xer3POJ78DPCgm/Tea9OtMjs744HQtDMMwO+lBrB24F9VqlauqynVddz2OF2I0xumpX3TUXiMKQe3FaEy1WrWliQ7cKS0se+EcFgoFW5pw4pzSwrIPqoH92ifN0aE1OiEwMzODzz77DOfPn4+7KoQDlUoFS0tLQ+fHU6kUUqmU7fvBRbeVSgWSJKFWqwF4uYBv0HZwXl7Mi3c6HdsxJElCsVhEo9Ew1xKkUimznmKOXZTlNj8/OBcv1kM0Gg3X36fdbvf9Ptls1lbHURYeh7EmgwCePHkCAFhcXLSlzc3NQZZlNJtNzzLOnDmD+/fvY25ubl91aDabUFUVMzMztjRVVfvqGYX9gwcPAOydxyAnT54EADx69Cgye5F27tw5W9rx48f7jhGFfVANhKGhJECOTkg43chE/Kyvr+Py5cvodrt9C+1WVlZszk6v10Ov13MtSyy6PX36NBhjUBQFwMsFfB9++KGZt1KpYGFhAdvb2ygUCmCMYXFxEWtra1BV1bHT//TTT7GwsID5+XkwxpBKpbCysoJ8Pg9VVbG9vQ3GGDRNw9raGr7zne/02bfbbaiqirW1NWSzWTDGkMvlsL29jYWFBVQqFdsx7927h9dee808D03TsLGxgcXFRUdHatjC4263i6WlJaysrGBxcbGvDhcuXHB08ghnHj9+DAA4cuSIY/rp06eHlhGkXRIadSvj1KlTkdoDe/p0K+PEiROR2z98+BAAcPjwYVuacJSitA+qgTA0lAjCGhoiXjLpUxoHxUH8RvV63TYH7jacC5dF5G5TNG7XWUxlOi22dFubII5tnUcXQ8twWOPgNOwv6jM4F++2HsHpmJw7z907/QZO34kF+W518LP4MgiTet/BYapA/JZuU4Pieosp8/0exw1xfd3yD6tfUHtRX7drOqz8MOyH/cZe5YdhH1QD+7UfRSfjgtfvSCM6RKI5f/687clpZmYGmqZFNmT7+9//Hr1eD7lcznbsq1evQpZlbGxs2Ow0TeuLXTE3N2eOGq2urvblzWQyAF4OTXc6HdRqNaiqaot/cfLkSWQyGfR6PdsU1uAxAeD73/8+AOD27du+z1nw6aefAgBeeeUVNBoN8/PixQsAwP3790cuk/Dm0KFDsR7fbbTgoOyPHj0aq70sy7HaA8E1ELeGouYrcVeAIKKm0+ng5s2bePjwoRkbQgxpR8Ef//hHAM7z8sDecHGtVkOn0xm6diKdTkPXddv3g53DF198AcB5Lh7YmybY2NjA559/PrT+Yu3AfuJoCOdxYWHBMd3pXIhg+JkCiRI/U0BR2vuZAovSPuj0TxjTR0E1ELeGooYcHSLRVCoVXL58Oe5qTB31et3x+6Q/OYbJ2bNnAbivi4rSWQdgbq5wC0on1p9EZQ/sjTjWajV0u13bOhux/iRK+4sXL6JWq+H58+e2ND+L64PaB9VA3BoaF2jqikg0+XweAFAul2EYBvheSAVommbLG8YQMvBytOXOnTuO6ffu3YMsy/veCeOEcCC2t7cd00WnIkZrvNjZ2QGAfdVPTLWdP3/e8ZP0J8cwOXbsGADna9rpdNDr9cwpzKhQFAXNZtPRWWk2m5Bl2XO3aVB7oUGhSSvCUXC6l8Oyn52dBeB8L4tp40uXLkVmH1QD46ChcYAcHSLR9Ho9c92KeKLrdDrY3d215RVDyNZ1LO12Gz/84Q8dyxZz+4NPZq+//joAYG1tzdbAr6+vo9frhf4emZMnT5qdyuA6nHa7jY2NDSiKYnM0arWabTfWr371KwDA1772tZHrIabOnLbvt9ttz23uRD9zc3NQVdXxmhYKBQDAN7/5zUjrIDrBTz75pO/79fV16Lo+VMdB7b/xjW8AAD766KO+79vtNtbW1hw1Haa9273c7Xbx7rvv9uWJwj6oBsZBQ2NBWKuapx3GmPkRO2LE/8MiV04rB6EnsavAGn5e7IgaPL4I4CVCtYtQ8SLo2eDOBbGDSlVVs2yBCFRmDfvuFXYdLrsc3HZ2id0U1t0SIjgZLKHevcLti7pYfx9rHa343XUldpxZy2SM+Y7iGpRJbaPcrr/4jWVZtoXv97MrRtf1vrYJePkqBMaYZ7A8zvuvZyaTsWlq2OsHgtpzzvs0OfgKBz87zoLaW3+3wVc4+AmWGdQ+qAb2Y++37HHC694nRyckRAfj9PETZnwaOQg9GYZhOjeisSmVSpwx5nhdSqWS2QiJDkFsjR7spEXZ4joPbhkvl8umI2Etz+3dMk7h8DVNc6ynk6PD+V6jZn2vkWjcRGTcwWOWSiVerVbNcxb5B+soGkunLeduv4soUzSaft4rFJRJbaO8OpbBayp05Adxjdw+w17BwPmes2S9h9w0EpW9YRh9zoGot5/3ZIVhz7n9XlZVdaiTGKZ9EA3sxz5pjo70ZQZfSJKEEbIThCekJyJsJlVTkiRB0zRsbW3FXRWCmEg9et37tOuKIAhiDNjd3UWxWMTs7Gzoa7gIwg9Oa+uSAI3oELFBeiLCZlI1lUqlzNePTNqTNJEcJEky/85kMo6vjRlXvO59cnSI2CA9EWFDmiKI6cTr3qft5QRBEARBJBZydAiCIAiCSCzk6BAEQRAEkVjI0SEIgiAIIrGQo0MQBEEQRGIZOY6OdfsZQQSF9ESEDWmKIAgrIzs6tHWTCAvaCkyEDWmKIKYTrwccmroiCIIgCCKxkKNDEARBEERiIUeHIAiCIIjEQo4OQRAEQRCJhRwdgiAIgiASCzk6BHEALC0tIZVKxXJsSZKQzWZjOTbhj1QqBUmSIEkSlpaW4q4OMaUIDSatzSBHJyQajQay2azZYKXTaRSLxbirRYwRvV7PV752ux16Q/P06dPQyiLCp9frQVEUMMZw5cqVvrROp4N8Pm+2LalUCvl8Ht1u11fZQe0FjUYD6XR65DhF3W4XxWLRtBXabrfbvsuoVCqYn5837efn57G5uXlg9qJ9F/ajtu9B7Q9KA4wxMMYAJKzN4CMwYvapoVqtcgBcURTOGOOFQoHLsswB8FwuF3f1xpZp0pOmab7Pt9VqcQA8k8mEcmwAXNO0UMoadyZVU27XSNf1vraEMWZqSVVVbhiGZ7lB7QWMMQ7A/IyCqqrm+THGeC6X4wC4LMu81WoNtS8UCq7ta7lcjtxetO+yLPNCocAZY1xRFN/te1D7ODQwiW2Gly7J0QkBxhhnjPV9JzorAFzX9ZhqNt5Mk+B+BncAACAASURBVJ5GcXTCZhIbrf0yqZpyu0bCKRjskDOZDAfAS6WSZ7lB7Tl/qV1rB+mXcrns2KGXSiVfzryu644dsmhfZVmO1J5zzhVFsTllhmGYzsowZy2ofRwamMQ2gxydmBBPMvV6Pe6qjCXTpCdydA6GSdWU0zUyDMPspAexduBuBLUXZciybLZho+pYtIFOowaio/cakRCjMdVq1ZYmOnCntLDsxWhMoVCwpQknziktLPu4NDCJbYaXLmmNDkEcIN1uF/l8vm+tQKPRsOVzWqMjSRKKxSIqlYo5116pVMz0RqPRtw5hP+swiPHhyZMnAIDFxUVb2tzcHGRZRrPZjMweAGZmZvDZZ5/h/Pnzo1TdpNlsQlVVzMzM2NJUVe2rpxMPHjwAAJw5c8aWdvLkSQDAo0ePIrMXaefOnbOlHT9+vO8YUdiPgwaSADk6EdHtdk0BCUETxKuvvort7W0wxpDL5dBsNrGwsOC4MNNpMeCnn36Ky5cvI5vNolAomN83Gg0sLCxA13UUCgUUCgVsb287NvDEZPD48WMAwJEjRxzTT58+Ham9wMlJ8YPQtJv9qVOnhpZx79491zJOnDgRuf3Dhw8BAIcPH7alCUcpSvtx0cCkQ45ORHzyyScAgFwut++Ggkge2WwWu7u7WF5exurqKkqlEgDgww8/9GXfbDZRKpWwurqK69evm6M+H3zwAQDgd7/7Ha5fv47r169jZ2fHfGomJo9nz575yuc0IhiGfVBevHjhK9/du3dd0/zsVLx161Zk9n52HtVqtcjsJ10D4wI5OhHQbrexsrICWZbx/vvvx10dYoxYXV3t+//q1asAgO3tbV/2qqqaNoJut4tarQZVVfumGGZmZvCLX/wiYI2JcefQoUOx2gfFbbTBL0ePHo3VXpblWO2ByddA1JCjEzLdbhf/9E//BGDv6ZpGc4hhqKrqO8aOk57EPLxTGukv+fiZAonSPih+ppC88DMFFqV90OmfMKaPJl0DUUOOToh0u10sLS2h2WyiXC7vewEfQRDE2bNnAbhPP4j1J1HZB0W0f24L4sX6FS80TXMtQ6w/idL+4sWLAIDnz5/b0vwEPAxqP+kaGBfI0QmJQScnSeGziegQi9YVRdl3GWKxu1NjTruuJpdjx44BcJ7W7HQ66PV6yGQykdmHgaIoaDabjjpsNpuQZdnzgXBubg4AsLOzY0sTjoJwZqKwn52dBQDcuXPHliZGUi9duhSZfRI0MBaEtU99mjEMw4wX4SfSJrHHNOlJxB9xC5w2+D0c4lg4fSdwCj5m1eWkxcTYL5OqKbdr5BaLSwR7G9beBLUfZNQ4OiKOzWBAVTfdDyLi0Az+NiLgn6IokdqLODSyLPfF+7EG/PMKCBvUnvN4NDCJbYaXLsnRCQEReEpVVTNKsvXjJ/roNDJNetI0zYyQKkLRW0PhDzZ2ozo6g2HmRZh7cnQmA7drVK/Xzes6GL7fzzUNas8572vLROfst20TAQfxZRTkQd37eQWF9XUFg69w8BOMNai9eP2Foii2VzgMOnBR2MehgUlsM8jRiRjhGbt9/IQZn0amSU+apvFMJsNbrZbZyIjG3ykEvEgb9p2VarVqNqDC4REdTVjvzRp3JlVTXh1LvV7va2OEo+yXoPZB2zZd13kulzOdC9Hh+n3PlmEYfc6B130ThT3ne1GMxUODcJq8IiqHbX/QGkiaoyN9mcEXkiRhhOwE4QnpiQibSdWUJEnQNA1bW1txV4UgJlKPXvf+Vw64LgRBEIQDu7u7KBaLmJ2dpc0MRCwUi8W4qxAJNKJDxAbpiQibSdVUKpUyYylN2pM0kRwkSTL/zmQyfe/SG3e87n1ydIjYID0RYUOaIojpxOvepzg6BEEQBEEkFnJ0CIIgCIJILOToEARBEASRWEbedWVdrEQQQSE9EWFDmiIIwsrIjg4t9CPCghaOEmFDmiKI6cTrAYemrgiCIAiCSCzk6BAEQRAEkVjI0SEIgiAIIrGQo0MQBEEQRGIhR4cgCIIgiMRCjg5BEETMpFIpSJIESZKwtLQUd3WIKUVoUJKkRL1YlhydkGg0Gshms6ZI0ul0Yt8ESxBEuPR6PSiKAsYYrly50pfW6XSQz+dNZyiVSiGfz6Pb7foqO6h9t9tFsVhEOp3u6wTb7fZI59hoNMwyRqVSqWB+ft48/vz8PDY3Nw/MPmj7HtT+oDTAGANjDADw9OlT3/Ube/gIjJh9aqhWqxwAVxSFM8Z4oVDgsixzALxQKMRdvbGF9BQerVaLA+CMsbirEiuTqikAXNM02/e6rpttSS6X44wxrmkaB8BVVeWGYXiWG9Sec85VVTXrxxjjuVyOA+CyLPNWq+Xr/BhjHID5GYVCoeDavpbL5cjtRfsuyzIvFAqcMcYVRTF/06jt49CAmx7HGS9dkaMTAowxWwcjOh4AvhqTaYT0FB71ep0cHT65mnLrWIRTMdghZzIZDoCXSiXPcoPal8tlxw65VCpxADyTyXjac87NTtXawfpF13XHDlm0r7IsR2rPOeeKoticOsMwTGdlmLMX1D4ODZCjQ/hG3NT1ej3uqowlpKfwIEdnj0nVlFPHYhiG2UkPYu3A3Qhqz/nL0RynhzXRUXs9yBmGwWVZNtvAUR0dMRpTrVZtaaIDd0oLy16MxjiNzAsn0GvUPqh9XBpImqNDa3QiZHd3FwBw/PjxmGtCjCPdbnfovLmY2/fKk06nsbCwAABYWVkx1wGsr68f+DkR4fHkyRMAwOLioi1tbm4Osiyj2WxGZg8AzWYTqqpiZmbGlqaqat9xnJiZmcFnn32G8+fPex7HjQcPHgAAzpw5Y0s7efIkAODRo0eR2Yu0c+fO2dJEuy6OEYX9OGggCZCjExGVSgW6rkPTNMdGgphuut0uXn31VaytrSGbzYIxhmw2i7W1NXzyyScAgHa7jYWFBTSbTeRyOTDGcPr0aaytreE73/mOWdYHH3yAXC4HANA0zVxQ+Dd/8zexnBsRDo8fPwYAHDlyxDH99OnTkdqLxcZu7depU6c87QVB2r979+65lnHixInI7R8+fAgAOHz4sC1NOEpR2setgaQw8ks9CWfa7TZqtRoA4NatW6jVatA0Db/+9a9jrhkxjvz85z9Hr9dDqVTC1atXze9//OMf44svvgAAHDp0CNVqFW+88YaZvry8jPn5edRqNXS7XczMzCCbzeKVV17B2toaLl68iOXl5QM/HyJ8nj175itfo9FwHDEJav/ixQtf9nfv3t33iM0wer3e0Dy3bt1y1XxQez87j0S7H4V93BpICuTohMT//M//YGVlpe+7o0eP4smTJ4kWELE/NjY2AKDPyQH2hpPn5uZsf1v51re+hWazSdoiAOw5xHHau40WHBRHjx6N1V6W5Vjtgfg1MO6QoxMSV69eNTutTqeD3//+93jnnXewsbGBer1OHRLRh5jWHEa328XNmzfRbrfR6XQAvFz7RRCAvymQKO39TAFFid8ptKjsg07/hDF9FLcGxh1aoxMBc3NzuHr1KlZXVwEAH3/8ccw1IiaRdruNV199FW+//TbW1tZQq9VQq9Wg63rcVSMOgLNnzwJwn34Q60+ishcPZ25B6cT6kygRDwNOdRDrT6K0v3jxIgDg+fPntjQ/AROD2setgaRAjk6EvPLKKwASFmGSCAVZlj3n5gHgww8/RK/XQ6FQgK7r4HvhIMzIpUSyOXbsGABge3vbltbpdNDr9ZDJZCKzBwBFUdBsNh0dhWazCVmWIx2tFlO3Ozs7tjThKHiNjAa1n52dBQDcuXPHliZ2NF26dCky+3HQQCIIa5/6NKOqqmOsHBGQiaIjOzPNehIxPAaDdem6bos5Yo1TYhiGqSur5kQAND8B3JLMpGoKLnFLRBybwfZFaGBYZN+g9iIOzWB8JhEw0E9kXyujxtERcWgGfxuhd0VRIrUXcWhkWbbdhyKOkK7rkdlzHo8G3PQ4znjpihydEBBCUlXVjJIsvlMUhSIjuzDNenIKy57L5bgsy2anIsLmW0PXiyirTg2X9bUjhULBMxBaUplUTbl1LCIQpCzLtvD9fjqioPYi4J9wogdfAeGnbRNtovXVB+L/YVF9Oed9rysYfIWDn2CsQe2t9+HgKxz8BOgMah+HBsjRIWwYhsELhYLp3Fg7J3Jy3Jl2PbVaLfOpSmgml8v1PeFZG0XxrhzxlDoYOr5arfblncaI3JOqKa+OpV6v23QySgTsoPa6rptOuLXD9Nu2ieM6ffy8gsEwjL77QDhdft+zFdSe870oxtb2XVXVkR4kgtoftAaS5uhIX2bwhSRJGCE7QXhCeiLCZlI1JUkSNE3D1tZW3FUhiInUo9e9T9vLCYIgxoDd3V0Ui0XMzs4im83GXR1iCikWi3FXIRJoRIeIDdITETaTqqlUKmVG8Z20J2kiOUiSZP6dyWRQqVRirM1oeN375OgQsUF6IsKGNEUQ04nXvU9xdAiCIAiCSCzk6BAEQRAEkVjI0SEIgiAIIrGQo0MQBEEQRGIZeXu5dVU2QQSF9ESEDWmKIAgrIzs6tKOBCAvaIUOEDWmKIKYTrwccmroiCIIgCCKxkKNDEARBEERiIUeHIAiCIIjEQo4OQRAEQRCJhRwdgiAIgiASCzk6BBEDS0tLSKVScVeDGBNSqRQkSYIkSVhaWoq7OsSUIjQoSRKy2Wzc1QkNcnQioNFomGJZX1+PuzrEmCLeVk0QvV4PiqKAMYYrV670pXU6HeTzedMZSqVSyOfz6Ha7vsoOat/tdlEsFpFOp/s6wXa7fSD21vNYWlqCJEloNBoj2VYqFczPz5vHn5+fx+bmpm/7RqOBbDZr2qfTaRSLxQOzPygNMMbAGAMAPH361Hf9xh4+AiNmn1oUReGyLHMAnDEWd3XGlmnWk6ZpU33+UTGpvykArmma7Xtd1822JJfLccaYqR1VVblhGJ7lBrXnnHNVVc36McZ4LpfjALgsy7zVakVuzznn1WrVPA8AvF6v+7LjnPNCocABcEVROGOMFwoFs6xyuezr2KK+hUKBM8a4oijmbxq1fRwacNPjOON175OjEzKMMdPBIUfHm2nWEzk60TCpv6lbxyKcgsEOOZPJcAC8VCp5lhvUvlwuO3bIpVKJA+CZTCZSe85ftqmZTMZ0Wvw6OrquO3borVbLdD6GIR5crU6ZYRimszLMWQtqH4cGyNEhXDEMg8uyzHO5HK/X6+ToDGGa9USOTjRM6m/q1LEYhmF20oNYO3A3gtpz/nI0xumpX3TUXiMKQe1FGaIzFk6PX0dHOEbVatWWJhwApzSBGI0pFAq2NOHEOaWFZR+XBpLm6NAanRB57733AAA//vGPY64JMS50Op2+ufmlpSXPtQmjzOX7zbu0tGQeV6yTyOfzoZ0jEQ1PnjwBACwuLtrS5ubmIMsyms1mZPYA0Gw2oaoqZmZmbGmqqvYdJwp7ANja2sLVq1c987jx4MEDAMCZM2dsaSdPngQAPHr0yNVepJ07d86Wdvz48b5jRGE/DhpIAuTohES73cba2hp+8pOfYG5uLu7qEGNAt9uFqqrY2NhALpcDYwzdbhcXLlzAvXv3bPkrlQoWFhbQbDbNRYGyLGNlZQXXrl3bd14A2N3dxYULF5BOp828xHjz+PFjAMCRI0cc00+fPh2pvXDInZwUADh16lSk9gI3ez+I+8ypjBMnTgy1f/jwIQDg8OHDtjThKEVpH7cGkgI5OiGxsrICRVHw1ltvxV0VYkz45JNP0Ov1wBjD6uoqlpeXcf/+ffzkJz+x7bjqdrvI5/NQVRU7OztYXl4282cyGdy4cQOdTmfkvAJd17G4uIitrS0sLy/j+vXrB/Y7EPvj2bNnvvK57UAKav/ixQtf9nfv3o3EPgz87Gy8deuWa5qfnUe1Wi0y+7g1kBRGfns5YWdzcxO1Wg3lcjnQ0weRLD799FMAsDm/y8vL+PTTT/uGjHd2dtDr9TA/P28byhfxdv7v//4Pc3NzI+W18otf/CKcEyPGikOHDsVq7zZacFD2QTl69Ggg+6Cjo2GMrsatgXGHHJ2AdLtd/OAHP4CmaYkKsEQERzgyTs7v4HdiLn9tbQ1ra2uO5f3pT38aOa/XMYlk4GcKJEp7P1NAUdoHxe8UmhtBp3/CmD6KWwPjDjk6Abl58yZ0XYeqqn0LQf/whz8AeDksqmla4sVEBCeXy+Hb3/62Y5pYvLifvMTkcfbsWQDu0w9O67zCtD9//jwAuAalE+tPorIPA03TUKvV0O12bY6+WL/ixcWLF1Gr1fD8+XNbmp+Ah0Ht49ZAUiBHJyQ2NjawsbFh+75Wq6FWq+HIkSPk6EwZqqqi2Ww6NrKDjf/s7CwA4C//8i/NDsKNUfISk8uxY8cAANvb27Y1VZ1OB71eD5lMJjJ7AFAUxVXDzWYTsix7ajCofVDE9O3Ozg7eeOONvjThaGia5mov7rU7d+7Y7MW08aVLlyKzHwcNJIKw9qkT/VAcneEkXU8iTsdgQC7xvfX8RUwLWZYd44pYyxglL+fTFbNnUs8TLnFLRByawbgxItjbsMi+Qe1FHJrBdkwE/BsW2Teo/SCjxtERcWwGf1sRMFBRFE97EYdm8F6zBvzTdT0ye87j0YCbHscZr3ufHJ2IIEdnOEnXk1PodRElVTRyVkQjbg0VXygUTJv95iVHZ/xx61hEOyICkVrD9/vpiILaiyCo+DIy8eArHIYF+wtqz/leYD3GWF/dxbkwxoaWYX3dweArIPw4TOJeUxTF9goHP+17UPs4NECODuELcnSGMw16arVaZqMiGntd13kmk3EMP1+tVvvyK4rCc7mc41Of37yapvkKdZ8EJlVTXh1LvV43n77FdR6lXQlqr+s6z+VypnMgOkw/TkoY9laNO32GvULBMIw+50Lch37fs8X5nrMlRkaE0+QVUTls+4PWQNIcHenLDL6QJAkjZCcIT0hPRNhMqqYkSYKmadja2oq7KgQxkXr0uvdpMTJBEMQYsLu7i2KxiNnZWQpVQcSC2+tmJh0a0SFig/REhM2kaiqVSplRfCftSZpIDpIkmX9nMhlUKpUYazMaXvc+OTpEbJCeiLAhTRHEdOJ179O7rgiCIAiCSCzk6BAEQRAEkVjI0SEIgiAIIrGQo0MQBEEQRGIhR4cgCIIgiMQychwd6/YzgggK6YkIG9IUQRBWRnZ0aOsmERa0FZgIG9IUQUwnXg84NHVFEARBEERiIUeHIAiCIIjEQo4OQRAEQRCJhRwdgiAIgiASCzk6BEEQBEEkFnJ0CGIMkCQJ2Ww27moQMZFKpSBJEiRJwtLSUtzVIaYUocGktUfk6IRAu93uE4j1k0ql4q4eMSE8ffo07ioQMdHr9aAoChhjuHLlSl9ap9NBPp83naFUKoV8Po9ut+ur7KD23W4XxWIR6XS6rxNst9sHYg8AlUoF8/Pzpv38/Dw2Nzd92wN7v8PS0hIkSUKj0RjJttFoIJvNmsdPp9MoFosHZn9QGmCMgTEGIGHtER+BEbNPDfV6nQPgmqZxxljfp1QqxV29sYX09BKhHyIYk6opt+uv6zqXZZkD4LlcjjPGuKZpHABXVZUbhuFZblB7zjlXVbWvfcvlchwAl2WZt1qtyO0LhQIHwBVF4YwxXigUzHMql8tD7TnnvFqtmjYAeL1e92UnbEV9C4UCZ4xxRVHM3zRq+zg0MIntkde9T45OCAhHhzEWd1UmCtLTSyaxYRlHJlVTbtdfOAWDHXomk+EAhj5IBbUvl8uOHXKpVOIAeCaTidRe13XHDrnVapnOwzAYY+axhNM0iqOjKIrNKTMMw3RWhjlrQe3j0MAktkfk6EQMOTr7g/T0kklsWMaRSdWU0/U3DMPs5AexOgBuBLXn/OVojNNTv+iovUYUgtoLx6RardrSRAfulDZYB9GZC6fHr6MjRmMKhYItTThxTmlh2celgUlsj7zufVqjQxAHSKPR6FtrMGyefXBtgpjbd7LZ3Nzsy5vUhYXTwpMnTwAAi4uLtrS5uTnIsoxmsxmZPQA0m02oqoqZmRlbmqqqfceJwv7BgwcAgDNnztjSTp48CQB49OiRxxkAW1tbuHr1qmceN0TZ586ds6UdP368r45R2I+DBpIAOTohcuvWLRSLRRSLRVQqFXQ6nbirRIwRjUYDCwsL0HUdhUIBhUIB29vbjo04AOTzeVy+fBm9Xs9cJCjLMlZWVrC0tNTn7DQaDXz961838xYKBciyDAAoFAr4x3/8xwM5RyI8Hj9+DAA4cuSIY/rp06cjtReLhZ2cFAA4depUpPYAcO/ePdcyTpw4MdTe6/h+ePjwIQDg8OHDtjThaEVpH7cGkgI5OiFSq9WwsrKClZUVXL58GYqi4Nq1a3FXixgTPvjgAwDA7373O1y/fh3Xr1/Hzs6O+WRrpdFoYG1tDaqqYmdnB8vLy1heXsb9+/eRyWTQbDZx8+ZNM//HH38MANje3sby8jKuX7+O3/3udwD2Grk33njjAM6QCJNnz575yue2gyio/YsXL3zZ3717NxJ7YG832jBu3brl6zj7wc/Oo1qtFpl93BpICuTohMD58+eh6zr43ponGIaBcrkMWZZx48YNVCqVuKtIxEy320WtVoOqqjh//rz5/czMDH7xi1/Y8v/mN78BAPzrv/6r7Yn0nXfeAQD89re/Nb97+vQpVFXF3Nyc+Z04jniqJJLJoUOHYrV3Gy04KPujR48Gsg+KGDmNyx6IXwPjDjk6IWHtYGZmZpDNZvGf//mfAIBf/vKXcVWLGBPEXLnTMLrTd2La02ttwu7urvnd0aNH0Ww2+6azRJwRP1MExOTiZwokSnu/U0hR2cet76DTP2FMH8WtgXGHHJ0IcVt7QRBhI9bgnDlzBsViEdeuXcN3v/tdyLKMN998M+baEfvh7NmzANynH8T6lajsxYig22L5YSOFQe0BQNM01zLE+pMouXjxIgDg+fPntjQ/AQ+D2setgaRAjk6EfP7553FXgRgTxA4Lpwbb6TsxHL+zs2NLEw2kdW3PRx99BFVVoaoqVlZWcOPGDSwuLuL27dt9o43E5HDs2DEAe+uuBul0Ouj1eshkMpHZA4CiKLaRQkGz2YQsy31TsWHbC+163QfCGYqC2dlZAMCdO3dsaWKU9tKlS5HZj4MGEkFY+9QJOyIgk9/ondPGtOnJKUCYYRh9kWMFIsaGUywLJ13BR/C1aWBSNeV2rYU2BuO++G1bgtqLODaDMcJEwL9hkX2D2os4NIO/jQgYqCiKp/0go8bREXFoZFnui/djDfin63pk9pzHowE3PY4zXvc+OTohoChK3+sfCoXCSCG+p5Vp09NgKHgRyt7J0eH8ZQMlQt97hY4XId2tH1mWeSaTGRpQLUlMqqbcOhYRjFSWZVv4fj8dUVB7wzDM1wdkMhnbKxyGvX4gqD3nvO91BYOvgPDjsJTLZfP+EWWJ34IxNrQOwjlSFMX2Cgc/QWKD2sehAXJ0CBvlcplrmtb3LhVN02gkZwjTqKdqtWo2csLhEZ3B4IiMYRh9jaJo7J10JZ6cRUMqOhShyWlxdiZVU14dS71eN5++rY6vX4La67repyXRYfpxUsKwd7oPMpmMr/dkce78EGD9+CmnXC6bDx7iPhzlngpqf9AaSJqjI32ZwReSJGGE7AThCekpHNrtNl577TUwxrC8vNyXtrm5ia9//euOaUlkUjUlSRI0TcPW1lbcVSGIidSj173/lQOuC0EQISMCjomFj1b+9Kc/HXR1iH2yu7uLYrGI2dlZemUHEQvFYjHuKkQCjegQsUF6CodOpwNFUQAAmUzGjCvy8OFDbGxsQJZlfPbZZ4FC4U8Kk6qpVCplRgGetCdpIjlIkmT+nclkJirYrde9T44OERukp/BoNBr4+OOPsb29bXaYiqJgcXER77///lQ4OQBpiiCmFXJ0iLGE9ESEDWmKIKYTr3ufAgYSBEEQBJFYyNEhCIIgCCKxkKNDEARBEERiGXl7uXVVNkEEhfREhA1piiAIKyM7OrTQjwgLWjhKhA1piiCmE68HHJq6IgiCIAgisZCjQxAEQRBEYiFHhyAIgiCIxEKODkEQBEEQiYUcHYIgCIIgEgs5OgRxQFQqFaTTaUiShHQ6jU6nE3eViDEhlUpBkiRIkoSlpaW4q0NMKUKDkiQhm83GXZ3QIEcnRLrdLorFotmZSZKE+fl5NBqNuKtGxEy73cbly5cBAIwxLC4u4sWLFzHXihgXer0eFEUBYwxXrlzpS+t0Osjn86YzlEqlkM/n0e12fZUd1N6pXctms2i32wdiD+w9JMzPz/e1q5ubmwdmL87j2rVrkCQJxWJxJNtGo4FsNmseP51Oj1TGQWmAMQbGGADg6dOn/k9w3OEjMGL2qULXda4oCgfAM5kMZ4xxxhjXNI0zxuKu3lgyTXpijHEAvFqtxl2VRDOpmgLANU2zfa/rOpdlmQPguVzObFMAcFVVuWEYnuUGteecc1VVzfoxxngul+MAuCzLvNVqRW5fKBQ4AK4oCmeM8UKhYJ5TuVyO3J5zzlutlnkeAEZq06vVqnm+hUKBM8bMviKXyw21j0MDbnocZ7zufXJ0QkLTNN83LrHHNOlJNO71ej3uqiSaSdWUW8cidDPYIWcyGQ6Al0olz3KD2pfLZccOuVQqmQ91Udrruu7YIbdaLdN5iNKe8z1HRZZlrqqqWe9RHB1FUWx9g2EYprMzrM+IQwPk6BA2xE1DIzejMU16Ek9Q5OhEy6RqyqljMQzD7KQHsXbgbgS15/zlaIzTU7/oqL1GFILai9EYp5FQ0YF7jZIGtRdl5HI5bhgGr9frI7X1YjSnUCjY0oQT6JQmiEsDSXN0aI1OCNRqNQDAm2++GXNNiHGj0WhAkiRTIwsLC5AkCfl8vi+90WiY8/+pVKpv/cLg/LpY4+C09qvdbvetBbB+UqnUwZw0EQpPnjwBACwuLtrS5ubmIMsy4n2HYQAAHqxJREFUms1mZPYA0Gw2oaoqZmZmbGmqqvYdJwr7Bw8eAADOnDljSzt58iQA4NGjR5HZA8CPfvQjrK6uOp7DMETZ586ds6UdP368r45OjIMGkgA5OiFw69YtAMC9e/cCLTgjksexY8fAGIOiKACAXC4Hxhi+8Y1v9OX74Q9/iLW1NRQKhb7dDu12G6qqYm1tDdlsFowx5HI5bG9vY2FhAZVKxczb7XZx4cIFbG9vo1Ao9B03k8ngww8/PIAzJsLi8ePHAIAjR444pp8+fTpSe+Fsu3Xwp06ditQe2GtT3co4ceJE5PZutn55+PAhAODw4cO2NOFoeRG3BpICOTohYt1VI1aur6ys4Nq1a3FWi4iRubk5LC8vI51OAwC+/e1vY3l5GW+88UZfvmazidu3b+P69etYXV01G8GVlRX0ej2Uy2Wsrq5ieXkZq6uruH37NgCYI0MAcPPmTfR6PayuruL69etYXl7Gzs4OZFnG06dPcfXq1QM6ayIMnj175iuf267OoPZ+dwXevXs3EntgbzfaMMSDZhT2QfGzc0mM9joRtwaSAjk6IdJqtVCpVLC8vNzXydy4ccP3NkBiOikUCrYnvE6ng1qtBlVVbTEtTp48iUwmg16vZzZSolF7/fXXzXwzMzM4ffq0+WRLJI9Dhw7Fau82WnBQ9kePHo3VPiiyLAcuI24NjDvk6ITIYEc1MzNjzo16zUMThFNj/8UXXwBwnl8HXg79f/75531l7OzsmHm63S5qtdrUDFFPI36mQKK09zsFFJW9nymwKO2DEsa9GbcGxh1ydELEKdKtWCNBEFEjFsN/97vfxbVr11AsFs1FmD/4wQ/irBqxD86ePQvAffph2ChdUPvz588DgOtotFh/EpU9AGia5lqGWH8SpX1QLl68CAB4/vy5Lc1PwMS4NZAUyNEJga9+9asAnEWzvb0NYG9RKkGMghhOFhoaRHQUYvfGJ598AlmWkc1msba2hpWVFciyjGq1alsTRIw/os1wuv6dTge9Xg+ZTCYye2DvQa3ZbDo6Cs1mE7Ismw5NFPZzc3MA+kcpBcJREM5MFPZBmZ2dBQDcuXPHliZG+S9duuRqPw4aSARh7VOfZkSshMG4AyLmwqTFIzgopklPbnF0hsXlELFGBu1E7CZFUfqOoSiKr2i3SWVSNeXWTog4NIPXXwR7GxbZN6i9iEMzqE8ROG9YZN+g9m5tq5P+o7AfZNQ4OiKOjSzLffelNWCgruueZcShgUnst7zufXJ0QkJ0ZPsNcz6NTJOe9uvoiIZadApe2hKvmRj8aJo2NHpqUphUTbl1LEIfsizbwvf76YiC2huGYb4+QLzaxqq/YU51UHvOed/rCgZf4eAnAGdQ+3q9br7SR9RdtPOMsaHtu7gvFUWxvQLCj8MUhwbI0SEcMQyj7wYSohrmrU8z06Qn8fQ02CiKRsjLEanX66a9l7bK5TKXZbnvXWuFQsFsVL0isCaFSdWUV8cyeP3FO5v8EtRe13Wey+VsbZvfkcOg9oZh9DkHwmny+wAZ1N7tAUJ8/DxElMvlvndlqao60nvvDloDSXN0pC8z+EKSJIyQnSA8IT2FSyqVwunTp7G1tdX3fbfbxV/8xV9A0zRbWtKYVE1JkjQV14eYDCZRj173/lcOuC4EQURAo9FAr9czF19aEdvPifFmd3cXxWIRs7OztrhJBHEQJDWSP43oELFBegqXdDoNXdehqiq+9a1vAQD+8Ic/oFKpoNfroV6ve+5wSQKTqqlUKmVG8Z20J2kiOUiSZP6dyWT6XjEz7njd++ToELFBegqXTqeDn/3sZ9je3oau6wD2oq4uLi7inXfeSXxQMIA0RRDTCjk6xFhCeiLChjRFENOJ171PAQMJgiAIgkgs5OgQBEEQBJFYyNEhCIIgCCKxkKNDEARBEERiGTmOjnX7GUEEhfREhA1piiAIKyM7OrSjgQgL2iFDhA1piiCmE68HHJq6IgiCIAgisZCjQxAEQRBEYiFHhyAIgiCIxEKODkEQBEEQiYUcHYIgCIIgEgs5OgQREpIkIZvNxl0NYgJJpVKQJAmSJGFpaSnu6hBTitBg0toycnRCwNpIuX2I6eDp06dxV4GYQHq9HhRFAWMMV65c6UvrdDrI5/NmO5NKpZDP59Htdn2VHdS+2+2iWCwinU73dYLtdvtA7AGgUqlgfn7etJ+fn8fm5uaB2TcaDWSzWdM+nU6jWCz6tgf2fodr165BkqSRbQ9KA4wxMMYAJKwt4yMwYvapoVQqccaY4wcA/W4uJO13AcA1TYu7GlPNpGrKTTu6rnNZljkAnsvlOGOMa5rGAXBVVblhGJ7lBrXnnHNVVc36McZ4LpfjALgsy7zVakVuXygUOACuKApnjPFCoWCeU7lcjty+Wq2a9S0UCpwxxhVFMX9TP7RaLfN3AMAZY77sOI9HA5PYlnnd++ToRIi4QfzeDNNG0vQ0iY1D0phUTblpRzgFgx1yJpPhAHipVPIsN6h9uVx2bMNKpRIHwDOZTKT2uq47dsitVst0PqK055xzRVFsTplhGKazM8xZq1arXJZlrqqqed6jODpxaGAS2zJydGJCeM1+nlqmkaTpaRIbh6QxqZpy0o5hGGYnPYi1A3cjqD3nL0djnJ76RUfvNaIQ1F6MxlSrVVua6MCd0sKyFw+rhULBliacOKe0wTrkcjluGAav1+sjOTpxaWAS2zKve5/W6EREu91GrVaDpmk4efJk3NUhDpB2u42lpaWhc+mD8+Zi7UKj0bDlXVpawtLSEtrttrnWIZ/Pm+mbm5u2NQiD5QSd5ycOlidPngAAFhcXbWlzc3OQZRnNZjMyewBoNptQVRUzMzO2NFVV+44Thf2DBw8AAGfOnLGliXb10aNHkdmLtHPnztnSjh8/3ncMN370ox9hdXXV8TcYxjhoIAmQoxMR6+vrAGBbWEgkm3v37uG1114DsLewT1EUrK2t4b333uvL1263oaoq1tbWkM1mwRhDLpfD9vY2FhYWUKlUbGXv7u7iwoULSKfTYIxBlmUAe07O17/+dfR6vb7FhHfv3rUdr1KpIJfLgTGGxcVFrK2t0S6fMeXx48cAgCNHjjimnz59OlJ7sVjYrYM+depUpPbA3v3kVsaJEycit3/48CEA4PDhw7Y0vw+w+3FwBHFrICmM/FJPYjjdbhdra2tQFCVRW/SI4fR6PZTLZfO6v/XWWzhz5gzW1tbw/vvvm43eysqKLS8AXL16Fa+99hry+bxNO7quI5PJ2Jyg//7v/wYA7OzsmOUvLy/35VlZWQEA3L59u6+BvnDhAt5++21UKhXS6pjx7NkzX/kajQbOnz8fuv2LFy982d+9ezcSe2DvfhrGrVu3bHoPy97PzqNarTY0z36JWwNJgUZ0IuCTTz4BAHzve9+LuSbEQaNpWp/DMDMzg0wmA+DlMHKn00GtVoOqqjbn4uTJk8hkMuj1eo5TWL/4xS9s3wnH5ec//7ljnbrdLmq1GhRFwYsXL9BoNMyP4H//939HPFNiXDh06FCs9m6jBQdlf/To0VjtxchqnMStgXGHRnQi4Kc//SmAvad5ghhsyL/44gsAzvPmwN6Q/sbGBj7//HNbmtMw+Jtvvonf/va3uHHjBtbW1pDL5fDWW29hbm4OwEsHq9lsYmFhwfGYuq77PyFirAi6BjCovZ8poCjt/UyBRWk/DtM/cWtg3KERnZCpVCro9XrI5XKB5mYJwi8zMzPY2tpCtVpFNpvFjRs3oCiKbYpLVVXU63XHz40bN2KqPeHG2bNnAbhPP4j1J1HZi6kMt8XqYv1KVPbA3gipWxli/UmU9hcvXgQAPH/+3JY2SsDD/RK3BpICOToh8+677wLYW2tBEE6IYeLt7W3HdNEBiF0dfnnjjTewurqKVqsFWZbNXVnHjh0DsOcQnT9/3vEjRn+I8UFcNyeddDod9Ho9c1o0CnsAUBQFzWbT0VFoNpuQZdlzbUdQe6HLnZ0dW5pwNIQzE4X97OwsAODOnTu2NDFSeunSJVf7oIyDBhJBWPvUCW7GSJi0+ANxkTQ9uV17ESG7Xq+b34kYItbvOH8ZyExRlL7vRUwmv6iq2hcMze14nO/FCtF13XfZ48ykaspNOyIOzeB1E8HehkX2DWov4tAMxn0Rge+GBUMNai/i2Az+Nm73Sdj2Ig6NLMt98X6sAQNHuXdGjaPDeTwamMR+zOveJ0cnRERn5CesOJE8PY3i6IgGWDT2w0Ljezk6mqaZ4fWt4d2tgcxEA2s9HmPMbASTEtRyUjXlph1x3WRZtoXv99MRBbU3DMN8fUAmk7HpdNjrB4Lac877Xlcw+AoHJ8c9bHtx/yqKYnsFhB+HpV6vm/ebOHfr/Trs3otDA+ToEI4Iz3/YEwLxkqTpSTTmg4iGcrBBq9fr5lOVtSFyekLUNM01XL214RUadGqAW60Wz2QyZiMvyzLPZDK+GvtJYVI15dWxDOrE7fq6EdRe13Wey+X6dCMi/R6EvWEYNo1nMhnfznlQe873oiBb31WlqqpnRGUr1nceOn2GvcKB84PXQNIcHenLDL6QJAkjZCcIT0hPRNhMqqYkSYKmadja2oq7KgQxkXr0uvdpezlBEMQYsLu7i2KxiNnZWQreSMRCsViMuwqRQCM6RGyQnoiwmVRNpVIpM4rvpD1JE8lBkiTzb6co7OOM171Pjg4RG6QnImxIUwQxnXjd+xRHhyAIgiCIxEKODkEQBEEQiYUcHYIgCIIgEgs5OgRBEARBJJaRt5dbV2UTRFBIT0TYkKYIgrAysqNDOxqIsKAdMkTYkKYIYjrxesChqSuCIAiCIBILOToEQRAEQSQWcnQIgiAIgkgs5OgQBEEQBJFYyNEhCIIgCCKxkKNDEGNAsViEJElot9txV4WIgVQqBUmSIEkSlpaW4q4OMaUIDUqShGw2G3d1QoMcnZDodDrI5/N9DVY2m0Wj0Yi7asQE8eLFi6F52u124hqiaafX60FRFDDGcOXKlb60wbYllUohn8+j2+36KjuofbfbRbFYRDqd7mvb/DrlQe0BoFKpYH5+3rSfn5/H5ubmgdk3Gg1ks1nTPp1Oo1gsHpi9YH19HalUamRn2K8GGGNgjAEAnj59OnL9xhY+AiNmnxoMw+CyLHMAPJfLccYYz+Vy5nf1ej3uKo4lpKeXMMZ8a6XVanEAPJPJHEDNJotJ1RQArmma7Xtd121ti6ZpHABXVZUbhuFZblB7zjlXVdWsn2jbAHBZlnmr1YrcvlAocABcURTOGOOFQsE8p3K5HLl9tVo161soFDhjjCuKYv6mUdtzvtfHZDIZDsBVK27sRwOjHmMc8Lr3ydEJAdFJlUqlvu+FwKlDcob09JJRHB3CnUnVlFvHIpyCwQ5ZdHqDbU7Y9uVy2bFDLpVKvtq2oPa6rjt2yMLZl2U5UnvOOVcUxeaUGYZhOivDnLWg9rqum2WIPmUUJ2Q/GiBHh7AhBDPYSRmGMZGCOShITy8hRyccJlVTTu2EaD9UVbXlt3bgbgS15/zlaIzTU7/oqL1GhYLai9GYarVqSxMduFNaWPbCsSgUCrY04cQ5pYVlL8pQVZXrus45H80J2a8GJrHf8rr3aY1OCFy4cAEA8Jvf/Kbv+5s3bwIALl26dOB1IsYLpzUKnU7HNa+YS3dbS+C0RkeSJKyvr6PdbvetB/A6FjG+PHnyBACwuLhoS5ubm4Msy2g2m5HZA0Cz2YSqqpiZmbGlqarad5wo7B88eAAAOHPmjC3t5MmTAIBHjx5FZi/Szp07Z0s7fvx43zGisAf26n7//n3Mzc155nMiDA0kAXJ0QuDNN9+EqqpYW1szO5VisYi33377/2/vDl7bNt84gH8Fv2ubyrmVEUbkHUYPHcFNoWsP7aEKLYwNBs7GDjuMtcp62WDxppyTTYaxW5vAdhvYZtcl2D1kh6SFNFpJYaWHRmGnnZw56f6A93fIXtW2JEeOJCuWvx8otJEeW6kev3osvXoEwzBw586dtDeRUrSwsIBSqYR8Pg/LsmCaJmzbxt9//+1Z97333sP3338PwzDc9W7fvu1bqPhNFvzpp5/wzjvv4ODgAJZlQdd11Go13Lx5M/TkUzodnj9/DgAYGxvzXT49PZ1ovJws7FekAMDU1FSi8QDw5MmTwNe4cOFC4vFPnz4FAJw9e9azTBZKScYDwf9/YUTNgaxgoROD8fFx1Ot1mKaJWq0GTdNQKpVgmibu37+f9uZRymq1GgqFAur1Oubn57G4uIjd3V1cvXrVs66maXj58iUWFxexuLiI5eVlAMDPP/8c6r1s20alUnHfq16vo1gswnEc9wwjDYfDw8NQ6wXd2Rk1PswdgADw+PHjROKBo7vRjrO+vp5YfJg7jxqNRmLxUUXNgaxgoROTFy9eoFarQVVVFItFAMDS0tKJbiGkbCkUCrBtO9TtrD/++GPHN7gPP/wQwPGntyVd1z2XtO7duwcA+P3338NuMg2RM2fOpBofdLZgUPHnzp1LNV5V1VTj4xA1B047FjoxWFtbw7Vr16CqKl6+fIlqtQrHcaDrOkqlEhYWFtLeRErRt99+C03TcPv2beTzeaysrIS+jBTltLUk5wJkqi8GucJeAkkqPswloCTjw1wCSzI+6uWf03D5KGoOnHYsdGLwySefQFVV1Ot198A0OTmJer0OTdOwtLTEyaAj7OLFi9ja2kKlUkE+n8fdu3fx1ltvsQsy9XTlyhUAwZcf5PyTpOLlpdWgolzOP0kqHjg6Qxn0GnL+SZLxN27cAAC8evXKsyzM5zdqfFRRcyArWOhEtL+/j1arhenpad9v3/l8HgB8J57S6BgfH8fs7Czq9ToqlQparRa+++67gbz31tYWAJzorg1Kz/nz5wEADx8+9Czb29tDq9VyL5MnEQ8czRmzbdu3ULBtG6qq+s41iyte5qzM4XayUJDFTBLxExMTAIBHjx55lsk7mnrdVRs1Pqo4ciAT4rpPfZThv8ZTss+B1N4UKkwH0lEzqvkke1u0N0vr1UcHPj0tgn4Gn8ZgsgtqmC6ww25Yc8pvfwrxug9Nd17I3l3H7dOo8bIPjWVZHT+XDf+O6+wbNT6oQZ5s+KdpWqLx8rOqqmrHGN4+tneP+3HG+wnKlSAnyYF+3+M06PXZZ6ETA/lhVlXVbbFtmqabyMc1hBpVo5JPqqqKYrEoLMvqaP/e3qgsrkJHtnqX7fbbW72PgmHNqaADy8bGhmdskfs0zIEoanz7421kDrc/wuG4L3BR44UQHTnc/QiHMA02o8bLz6amaZ5HOHQXcEnEO47jjh3tryX/3avhoRAnywEWOuSrUqm4ySP/6Lo+Et+iT2pU8qlYLLoDqxxwuwcnOYD5tYPvPvvT62e6rovV1VV3IJXP1xmVM4rDmlO9DiwbGxsdzzmSB7mwosY7jtPx7D55wAybU1Hjm81mR3Egcz/Mc7LiiBfiaHyXZ0aCPsNJxctCJehPmEcM9ZsDWSt0lP9WCEVRFPSxOlFPzKd4KYoCXddRr9fT3pTUDGtOcd/RaTKM+djrs/+/AW8LERH52N3dRblcxsTEhKcXEtEgZLXvGwsdIqKUqaoKx3FQKpV8mz4SDUKpVHL/HrWR4mnCQocoQ7I0OI2Sf/75J+1NIBrKy75hsNAhyoisDlJERFGwYSARERFlFgsdIiIiyiwWOkRERJRZLHSIiIgos/qejKwoShLbQSOK+URxY04RUbu+Cx3e2UFxGdYutnR6MaeIRlOvLzi8dEVERESZxUKHiIiIMouFDhEREWUWCx0iIiLKLBY6RERElFksdIgybmZmBrlcLu3NoB5yuRwURYGiKJiZmUl7c2hEyRxUFAWzs7Npb05sWOjEZG9vD3Nzc+6AlcvlMDc3h/39/bQ3jQitVivtTaAeWq0WNE2DZVn49NNPO5ZFHVuixu/v76NcLiOfz3ccBJ89ezaQeACoVqu4dOmSG3/p0iWsra0NLH5zcxOzs7NufD6fR7lcHlh8XMeXlZUV5HK5wGLasixYlgUAODg46Ou1TzXRhz5XHxmO4whVVQUAYRiGsCxL6LouAIhCoSCazWbam3gqZTWflpeXBQCxsbGR9qYIIYSbi6NgWH9PAELXdc/Po44tcYxNhULB3T7LsoRhGAKAUFVV7OzsJB5vmqYAIDRNE5ZlCdM03d+pUqkkHr+6uupur2mawrIsoWma+3+adHwc+7DZbIpisSgABOZauzDrnDa9PvssdGIgE6j7QyN/vry8nNKWnW5ZzSfLsljopGRYf8+gA4ssCk46tkSNr1QqvgdkWcwXi8VE4x3H8T2g7+zsuMVDkvFCCKFpmqcoazabbrFyXLEWNT7qPnQcx90GWXSx0DnhC40y+W2hm/wwDVvCDEpW84mFTnqG9ff0GyeazaZ7kO7WfgAPEjVeiNdnY/zOGsgDda8zClHj5dmY1dVVzzJZAPgtiyteFgamaXqWySLOb1lc8XHsw9XVVVEoFITjOEKIcEXMMB63en32OUcnJvl83vOzixcvAgCePHky6M2hFOzt7UFRFJRKJQDAtWvX3Gvycj7C5uYmFEXB5uYmFhYW3Ovtcnkul/OdOCzjVlZWPMtOMv9hbm4OiqL0NU+ABuvFixcAgJs3b3qWTU5OQlVV2LadWDwA2LaNQqGA8fFxz7JCodDxPknE//HHHwCAy5cve5bJ8fXPP/9MLF4ue/fddz3L3n777Y73SCI+jn14+fJlbG9vY3Jysud6Wdb3s67IX9CkME3T4DjOgLeG0jA5OQnLsrC+vo5GowHDMPDmm28CAN54442Odb/88ks4jgPTNDsmCh83afjw8LDj3zMzM2g0GtB1HZ9//jkODw/x4MEDHBwcoF6v+75GuVzGgwcPYBgG5ufnT/Kr0gA8f/4cADA2Nua7fHp6Go1GI7F4WSz7FSkAMDU1hVqtllg88PpLot9rXLhwoWdsHPFPnz4FAJw9e9azTBZKScZH3YdA8P//KGGhEwNN02DbNp49e9aRvLzjavTIwqHRaODjjz/G1atXfdezbRs7OzuhBrsga2traDQaKBaLqFar7s+/+uorbG1t+cZUq1WUSiUYhoH79++f+L0ped1FbZDNzU3fPIsa/++//4aKf/z4cSLxQLi7BdfX1wML9qjxYe486lVoRI2Pug/pCAudGHz99de4e/curl+/DsMwMDY2hr/++gvVapW39ZIv0zQjFTkA8NtvvwEA7t271/Hz8fFx3Lp1y7N+tVrFRx99xCInY86cOZNqfNDZhkHFnzt3LtV4VVVTjQei78OsY6ETgzt37mBsbAw//PADlpaWABxdf/7mm2/w66+/stghj6iDO3A0JwhA6G9yc3NzAI7ylbIjasEcNT7MJaAk46emplKNn56eTjUeiL4Ps46TkWMyOzuL7e1tiKM72bC9vY35+Xl3Mh5R2n755RcAwGeffcbLqkPgypUrAIIvXxx3k0PUeFlAB+WKnH+SVDwA6Loe+Bpy/kqS8Tdu3AAAvHr1yrMsTMPDqPFR9yEdYaGTIDlv4v333095S2hY9HMaW55y39zcDLX+rVu3YFkWbNvGF198caLto8E5f/48AODhw4eeZXt7e2i1WigWi4nFA6/nH/oVCrZtQ1XVnmcUo8bLO4X85pzJQkEWM0nET0xMAAAePXrkWSbviPrggw8Si49jHxLYGTkpOzs7QlVV3/46dCSr+SSbofk18trY2BAAhGVZvrGy5017D56dnR23H0l7nOzD0d10rdlsdvQG6e6jIxuNBW3DMBvWnEJA3xK537t7MgU1KY07Xvah6c4VmePHdfaNGh/U4E72KDtufI0aL/vYqKra0e+nveGf7E+TRLwQ0fdht6Bc63ed06bXZ5+FTgx0XXfbm1uW5SZg2Bbnoyqr+dTedVW2vJeD2XGFjixeZLt42a7er9ARwtte3zRNoWlaxyDVXei0D7K9mqUNo2HNqaADi8wXVVU97f/DHIiixjebTffxA8Vi0fMIh+MePxA1XgjR8biD7kc4hGnKGTVeNgDVNM3zCIcwXxaixkfdh47juMem9m2R//YbA1jokEelUnEPODKJDMPgM66OkeV8sizLHUw1TXNzQQ5avdq2Ly8vuwOhHJBk8dQd12w2hWEY7nupqiqKxWLHAK7ruqfVvTzjGKYF/jAZ1pzqdWDZ2NjoeE6RzImwosY7juPJsX7Gt6jxzWazoziQRVPYL5FR44XwjvGFQqGvLwlR46PsQznmBP3xewxH1god5b8VQlEUBX2sTtQT84niNqw5pSgKdF0PbPJINEjDmI+9Pvu8vZyI6BTY3d1FuVzGxMQEZmdn094cGkFZfSQMz+hQaphPFLdhzalcLuf22xq2b9KUHYqiuH/v7rh+2vX67LPQodQwnyhuzCmi0dTrs88+OkRERJRZLHSIiIgos1joEBERUWb1fddV+2QloqiYTxQ35hQRteur0OEkPyIiIhomvHRFREREmcVCh4iIiDKLhQ4RERFl1v8B9py9gtTgM0IAAAAASUVORK5CYII=)"
      ],
      "metadata": {
        "id": "gCt7QuRq1Pwl"
      }
    },
    {
      "cell_type": "markdown",
      "source": [
        "To do this conversion in code, we use Keras again:"
      ],
      "metadata": {
        "id": "lpdqEAr540K_"
      }
    },
    {
      "cell_type": "code",
      "source": [
        "import keras\n",
        "from tensorflow.keras.utils import to_categorical\n",
        "#from tensorflow.keras import utils as np_utils\n",
        "y_train_one_hot = keras.utils.np_utils.to_categorical(y_train, 10)\n",
        "y_test_one_hot = keras.utils.np_utils.to_categorical(y_test, 10)\n"
      ],
      "metadata": {
        "id": "orrIk8wHMmDr"
      },
      "execution_count": null,
      "outputs": []
    },
    {
      "cell_type": "markdown",
      "source": [
        "The line y_train_one_hot = keras.utils.to_categorical(y_train, 10)means that we take the initial array with just the number, y_train, and convert it to the one_hot encodings, y_train_one_hot. The number 10 is required as a parameter as you need to tell the function how many classes there are (10).\n",
        "\n",
        "Now, let’s say we want to see how the label for our second image (the truck, label: 9) looks like in the one-hot setting:"
      ],
      "metadata": {
        "id": "Sfqbw09J473o"
      }
    },
    {
      "cell_type": "code",
      "source": [
        "print('The one hot label is:', y_train_one_hot[1])"
      ],
      "metadata": {
        "colab": {
          "base_uri": "https://localhost:8080/"
        },
        "id": "H48B8AekQmmV",
        "outputId": "4913e12e-086f-4173-ce71-0aa152c5e746"
      },
      "execution_count": null,
      "outputs": [
        {
          "output_type": "stream",
          "name": "stdout",
          "text": [
            "The one hot label is: [0. 0. 0. 0. 0. 0. 0. 0. 0. 1.]\n"
          ]
        }
      ]
    },
    {
      "cell_type": "markdown",
      "source": [
        "Now that we’ve processed our labels (y), we might also want to process our image (x). A common step we do is to let the values to be between 0 and 1, which will aid in the training of our neural network. Since our pixel values already take the values between 0 and 255, we simply need to divide by 255."
      ],
      "metadata": {
        "id": "nDp6pWob5HEz"
      }
    },
    {
      "cell_type": "code",
      "source": [
        "x_train = x_train.astype('float32')\n",
        "x_test = x_test.astype('float32')\n",
        "x_train = x_train / 255\n",
        "x_test = x_test / 255"
      ],
      "metadata": {
        "id": "YuLe7lmBQuMD"
      },
      "execution_count": null,
      "outputs": []
    },
    {
      "cell_type": "markdown",
      "source": [
        "e divide each cell by 255. If you want, look at the array values of the first training image by running the cell:"
      ],
      "metadata": {
        "id": "51tgMeFt5PRW"
      }
    },
    {
      "cell_type": "code",
      "source": [
        "x_train[0]"
      ],
      "metadata": {
        "colab": {
          "base_uri": "https://localhost:8080/"
        },
        "id": "9XzCJK_mQvmu",
        "outputId": "5fd8f0bf-ee48-495c-c5f9-e049688bf643"
      },
      "execution_count": null,
      "outputs": [
        {
          "output_type": "execute_result",
          "data": {
            "text/plain": [
              "array([[[0.23137255, 0.24313726, 0.24705882],\n",
              "        [0.16862746, 0.18039216, 0.1764706 ],\n",
              "        [0.19607843, 0.1882353 , 0.16862746],\n",
              "        ...,\n",
              "        [0.61960787, 0.5176471 , 0.42352942],\n",
              "        [0.59607846, 0.49019608, 0.4       ],\n",
              "        [0.5803922 , 0.4862745 , 0.40392157]],\n",
              "\n",
              "       [[0.0627451 , 0.07843138, 0.07843138],\n",
              "        [0.        , 0.        , 0.        ],\n",
              "        [0.07058824, 0.03137255, 0.        ],\n",
              "        ...,\n",
              "        [0.48235294, 0.34509805, 0.21568628],\n",
              "        [0.46666667, 0.3254902 , 0.19607843],\n",
              "        [0.47843137, 0.34117648, 0.22352941]],\n",
              "\n",
              "       [[0.09803922, 0.09411765, 0.08235294],\n",
              "        [0.0627451 , 0.02745098, 0.        ],\n",
              "        [0.19215687, 0.10588235, 0.03137255],\n",
              "        ...,\n",
              "        [0.4627451 , 0.32941177, 0.19607843],\n",
              "        [0.47058824, 0.32941177, 0.19607843],\n",
              "        [0.42745098, 0.28627452, 0.16470589]],\n",
              "\n",
              "       ...,\n",
              "\n",
              "       [[0.8156863 , 0.6666667 , 0.3764706 ],\n",
              "        [0.7882353 , 0.6       , 0.13333334],\n",
              "        [0.7764706 , 0.6313726 , 0.10196079],\n",
              "        ...,\n",
              "        [0.627451  , 0.52156866, 0.27450982],\n",
              "        [0.21960784, 0.12156863, 0.02745098],\n",
              "        [0.20784314, 0.13333334, 0.07843138]],\n",
              "\n",
              "       [[0.7058824 , 0.54509807, 0.3764706 ],\n",
              "        [0.6784314 , 0.48235294, 0.16470589],\n",
              "        [0.7294118 , 0.5647059 , 0.11764706],\n",
              "        ...,\n",
              "        [0.72156864, 0.5803922 , 0.36862746],\n",
              "        [0.38039216, 0.24313726, 0.13333334],\n",
              "        [0.3254902 , 0.20784314, 0.13333334]],\n",
              "\n",
              "       [[0.69411767, 0.5647059 , 0.45490196],\n",
              "        [0.65882355, 0.5058824 , 0.36862746],\n",
              "        [0.7019608 , 0.5568628 , 0.34117648],\n",
              "        ...,\n",
              "        [0.84705883, 0.72156864, 0.54901963],\n",
              "        [0.5921569 , 0.4627451 , 0.32941177],\n",
              "        [0.48235294, 0.36078432, 0.28235295]]], dtype=float32)"
            ]
          },
          "metadata": {},
          "execution_count": 13
        }
      ]
    },
    {
      "cell_type": "markdown",
      "source": [
        "Now, notice that so far we’ve only had a train set and a test set. Unlike our previous projecr, we will not pre-split our validation set as there is a shortcut for this that we’ll introduce later on. so... no test traihn split method"
      ],
      "metadata": {
        "id": "MaWzQMNE5Wli"
      }
    },
    {
      "cell_type": "markdown",
      "source": [
        "so far we have just\n",
        "Downloaded the dataset and visualize the images\n",
        "Changed the label to one-hot encodings\n",
        "Scale the image pixel values to take between 0 and 1"
      ],
      "metadata": {
        "id": "HngAFZWO5iZ9"
      }
    },
    {
      "cell_type": "markdown",
      "source": [
        "\n",
        "For now, we’ll zero-pad our layer such that the output width and height will be the same as the input width and height. This is called ‘same’ padding. For a 3x3 filter, to achieve the same width and height, we’ll have to pad with a border width of 1. We will be applying ‘same’ padding for all the conv layers.\n",
        " we will use ReLU activation for all our layers, except for the last layer which is a softmax activation. "
      ],
      "metadata": {
        "id": "AOZOzQge51oB"
      }
    },
    {
      "cell_type": "markdown",
      "source": [
        "we’ll use Keras sequential model. However, since we have many layers in our model, we will have to specify the sequence. We’ll go through the code line-by-line. First, we import some of the code we need:"
      ],
      "metadata": {
        "id": "XtdB0lMe6Gn2"
      }
    },
    {
      "cell_type": "code",
      "source": [
        "from keras.models import Sequential\n",
        "from keras.layers import Dense, Dropout, Flatten, Conv2D, MaxPooling2D"
      ],
      "metadata": {
        "id": "iOs7c-NQQ6vx"
      },
      "execution_count": null,
      "outputs": []
    },
    {
      "cell_type": "markdown",
      "source": [
        "Then, we call an ‘empty’ sequential model:"
      ],
      "metadata": {
        "id": "yw7ugs9i6VzQ"
      }
    },
    {
      "cell_type": "code",
      "source": [
        "model = Sequential()"
      ],
      "metadata": {
        "id": "cixOueCGQ92G"
      },
      "execution_count": null,
      "outputs": []
    },
    {
      "cell_type": "markdown",
      "source": [
        "We’ll add to this empty model one layer at a time. The first layer (if you recall from our diagram) is a conv layer with filter size 3x3, stride size 1 (in both dimensions), and depth 32. The padding is the ‘same’ and the activation is ‘relu’ (these two settings will apply to all layers in our CNN). With all that, let’s specify our first layer in code"
      ],
      "metadata": {
        "id": "AzPMWJbe6cXi"
      }
    },
    {
      "cell_type": "code",
      "source": [
        "model.add(Conv2D(32, (3, 3), activation='relu', padding='same', input_shape=(32,32,3)))"
      ],
      "metadata": {
        "id": "24oWdYlgRCdf"
      },
      "execution_count": null,
      "outputs": []
    },
    {
      "cell_type": "markdown",
      "source": [
        "What this is doing is to add this layer to our empty sequential model using the function model.add(). The first number 32 refers to the depth. The next pair of numbers (3,3) refer to the filter width and size. Then, we specify activation which is ‘relu’ and padding which is ‘same’. Notice that we did not specify stride. This is because stride=1 is a default setting, and unless we want to change this setting, we need not specify it.\n",
        "\n",
        "If you recall, we also need to specify an input size for our first layer; subsequent layers does not have this specification since they can infer the input size from the output size of the previous layer."
      ],
      "metadata": {
        "id": "saLgu7gL6lD0"
      }
    },
    {
      "cell_type": "markdown",
      "source": [
        "Our second layer looks like this in code (we don’t need to specify the input size):"
      ],
      "metadata": {
        "id": "vZI_9B5M6qZO"
      }
    },
    {
      "cell_type": "code",
      "source": [
        "model.add(Conv2D(32, (3, 3), activation='relu', padding='same'))"
      ],
      "metadata": {
        "id": "k7o9LB-ERF5I"
      },
      "execution_count": null,
      "outputs": []
    },
    {
      "cell_type": "markdown",
      "source": [
        "The next layer is a max pooling layer with pool size 2 x 2 and stride 2 (in both dimensions). The default for a max pooling layer stride is the pool size, so we don’t have to specify the stride:"
      ],
      "metadata": {
        "id": "4sW7NOP06u-Q"
      }
    },
    {
      "cell_type": "code",
      "source": [
        "model.add(MaxPooling2D(pool_size=(2, 2)))"
      ],
      "metadata": {
        "id": "VCyWYGv4RIqQ"
      },
      "execution_count": null,
      "outputs": []
    },
    {
      "cell_type": "markdown",
      "source": [
        "Lastly, we add a dropout layer with probability 0.25 of dropout so as to prevent overfitting:"
      ],
      "metadata": {
        "id": "Vl6ozYAR6zBH"
      }
    },
    {
      "cell_type": "code",
      "source": [
        "model.add(Dropout(0.25))"
      ],
      "metadata": {
        "id": "iO4QgOQXRLSK"
      },
      "execution_count": null,
      "outputs": []
    },
    {
      "cell_type": "markdown",
      "source": [
        "And there we have it, our first four layers in code. The next four layers look really similar (except the depth of the conv layer is 64 instead of 32):"
      ],
      "metadata": {
        "id": "xJW-F9EJ7KXN"
      }
    },
    {
      "cell_type": "code",
      "source": [
        "model.add(Conv2D(64, (3, 3), activation='relu', padding='same'))\n",
        "model.add(Conv2D(64, (3, 3), activation='relu', padding='same'))\n",
        "model.add(MaxPooling2D(pool_size=(2, 2)))\n",
        "model.add(Dropout(0.25))"
      ],
      "metadata": {
        "id": "pLImq1qoRPP2"
      },
      "execution_count": null,
      "outputs": []
    },
    {
      "cell_type": "markdown",
      "source": [
        " our neurons are spatially arranged in a cube-like format rather than in just one row. To make this cube-like format of neurons into one row, we have to first flatten it. We do so by adding a Flatten layer:"
      ],
      "metadata": {
        "id": "CipQVvld7W2e"
      }
    },
    {
      "cell_type": "code",
      "source": [
        "model.add(Flatten())"
      ],
      "metadata": {
        "id": "LZ4D5oKCRUfU"
      },
      "execution_count": null,
      "outputs": []
    },
    {
      "cell_type": "markdown",
      "source": [
        "Now, we have a dense (FC) layer of 512 neurons with relu activation:\n"
      ],
      "metadata": {
        "id": "4CUOKLpl7bTD"
      }
    },
    {
      "cell_type": "code",
      "source": [
        "model.add(Dense(512, activation='relu'))"
      ],
      "metadata": {
        "id": "4dbkKKqIRXUw"
      },
      "execution_count": null,
      "outputs": []
    },
    {
      "cell_type": "markdown",
      "source": [
        "We add another dropout of probability 0.5:"
      ],
      "metadata": {
        "id": "0md_QX9L7g-d"
      }
    },
    {
      "cell_type": "code",
      "source": [
        "model.add(Dropout(0.5))"
      ],
      "metadata": {
        "id": "vGhA4MohRZuL"
      },
      "execution_count": null,
      "outputs": []
    },
    {
      "cell_type": "markdown",
      "source": [
        "And lastly, we have a dense (FC) layer with 10 neurons and softmax activation:"
      ],
      "metadata": {
        "id": "kOV3opKk7lJz"
      }
    },
    {
      "cell_type": "code",
      "source": [
        "model.add(Dense(10, activation='softmax'))"
      ],
      "metadata": {
        "id": "bsqtczOrRcmX"
      },
      "execution_count": null,
      "outputs": []
    },
    {
      "cell_type": "markdown",
      "source": [
        "And we’re done with specifying our architecture. let's look at a summary of the full architecture."
      ],
      "metadata": {
        "id": "7loYw9RG7qlr"
      }
    },
    {
      "cell_type": "code",
      "source": [
        "model.summary()"
      ],
      "metadata": {
        "colab": {
          "base_uri": "https://localhost:8080/"
        },
        "id": "maRN4ULpRfb7",
        "outputId": "8520201c-4f61-4656-a100-83e32261fe18"
      },
      "execution_count": null,
      "outputs": [
        {
          "output_type": "stream",
          "name": "stdout",
          "text": [
            "Model: \"sequential\"\n",
            "_________________________________________________________________\n",
            " Layer (type)                Output Shape              Param #   \n",
            "=================================================================\n",
            " conv2d (Conv2D)             (None, 32, 32, 32)        896       \n",
            "                                                                 \n",
            " conv2d_1 (Conv2D)           (None, 32, 32, 32)        9248      \n",
            "                                                                 \n",
            " max_pooling2d (MaxPooling2D  (None, 16, 16, 32)       0         \n",
            " )                                                               \n",
            "                                                                 \n",
            " dropout (Dropout)           (None, 16, 16, 32)        0         \n",
            "                                                                 \n",
            " conv2d_2 (Conv2D)           (None, 16, 16, 64)        18496     \n",
            "                                                                 \n",
            " conv2d_3 (Conv2D)           (None, 16, 16, 64)        36928     \n",
            "                                                                 \n",
            " max_pooling2d_1 (MaxPooling  (None, 8, 8, 64)         0         \n",
            " 2D)                                                             \n",
            "                                                                 \n",
            " dropout_1 (Dropout)         (None, 8, 8, 64)          0         \n",
            "                                                                 \n",
            " flatten (Flatten)           (None, 4096)              0         \n",
            "                                                                 \n",
            " dense (Dense)               (None, 512)               2097664   \n",
            "                                                                 \n",
            " dropout_2 (Dropout)         (None, 512)               0         \n",
            "                                                                 \n",
            " dense_1 (Dense)             (None, 10)                5130      \n",
            "                                                                 \n",
            "=================================================================\n",
            "Total params: 2,168,362\n",
            "Trainable params: 2,168,362\n",
            "Non-trainable params: 0\n",
            "_________________________________________________________________\n"
          ]
        }
      ]
    },
    {
      "cell_type": "markdown",
      "source": [
        "We’ll compile the model with our settings below:"
      ],
      "metadata": {
        "id": "Q0evzcXL74at"
      }
    },
    {
      "cell_type": "markdown",
      "source": [
        "The loss function we use is called categorical cross entropy, which is applicable for a classification problem of many classes. The optimizer we use here is Adam. We haven’t gone through the intuition of Adam yet, but know that Adam is simply a type of stochastic gradient descent (with a few modifications) so that it trains better. Lastly, we want to track the accuracy of our model."
      ],
      "metadata": {
        "id": "h8x5D1zF7-kz"
      }
    },
    {
      "cell_type": "code",
      "source": [
        "model.compile(loss='categorical_crossentropy',\n",
        "              optimizer='adam',\n",
        "              metrics=['accuracy'])"
      ],
      "metadata": {
        "id": "TNmfv2p9Rk04"
      },
      "execution_count": null,
      "outputs": []
    },
    {
      "cell_type": "markdown",
      "source": [
        "Time to train.  Whoo Whoo"
      ],
      "metadata": {
        "id": "qewu9UDc8Fnd"
      }
    },
    {
      "cell_type": "code",
      "source": [
        "hist = model.fit(x_train, y_train_one_hot, \n",
        "           batch_size=32, epochs=20, \n",
        "           validation_split=0.2)"
      ],
      "metadata": {
        "colab": {
          "base_uri": "https://localhost:8080/"
        },
        "id": "xuN-I5GyRoeV",
        "outputId": "5f8bfcd0-66e7-4d35-ca92-aef562079485"
      },
      "execution_count": null,
      "outputs": [
        {
          "output_type": "stream",
          "name": "stdout",
          "text": [
            "Epoch 1/20\n",
            "1250/1250 [==============================] - 249s 199ms/step - loss: 1.5817 - accuracy: 0.4234 - val_loss: 1.1881 - val_accuracy: 0.5729\n",
            "Epoch 2/20\n",
            "1250/1250 [==============================] - 252s 202ms/step - loss: 1.1874 - accuracy: 0.5759 - val_loss: 1.0338 - val_accuracy: 0.6345\n",
            "Epoch 3/20\n",
            "1250/1250 [==============================] - 244s 195ms/step - loss: 1.0294 - accuracy: 0.6347 - val_loss: 0.9041 - val_accuracy: 0.6849\n",
            "Epoch 4/20\n",
            "1250/1250 [==============================] - 245s 196ms/step - loss: 0.9180 - accuracy: 0.6785 - val_loss: 0.8579 - val_accuracy: 0.7015\n",
            "Epoch 5/20\n",
            "1250/1250 [==============================] - 245s 196ms/step - loss: 0.8430 - accuracy: 0.7031 - val_loss: 0.7996 - val_accuracy: 0.7199\n",
            "Epoch 6/20\n",
            "1250/1250 [==============================] - 246s 197ms/step - loss: 0.7784 - accuracy: 0.7273 - val_loss: 0.7461 - val_accuracy: 0.7401\n",
            "Epoch 7/20\n",
            "1250/1250 [==============================] - 246s 197ms/step - loss: 0.7296 - accuracy: 0.7425 - val_loss: 0.7305 - val_accuracy: 0.7539\n",
            "Epoch 8/20\n",
            "1250/1250 [==============================] - 252s 201ms/step - loss: 0.6889 - accuracy: 0.7580 - val_loss: 0.7068 - val_accuracy: 0.7557\n",
            "Epoch 9/20\n",
            "1250/1250 [==============================] - 252s 202ms/step - loss: 0.6476 - accuracy: 0.7732 - val_loss: 0.6878 - val_accuracy: 0.7632\n",
            "Epoch 10/20\n",
            "1250/1250 [==============================] - 251s 201ms/step - loss: 0.6197 - accuracy: 0.7802 - val_loss: 0.6877 - val_accuracy: 0.7625\n",
            "Epoch 11/20\n",
            "1250/1250 [==============================] - 250s 200ms/step - loss: 0.5821 - accuracy: 0.7929 - val_loss: 0.6980 - val_accuracy: 0.7648\n",
            "Epoch 12/20\n",
            "1250/1250 [==============================] - 252s 201ms/step - loss: 0.5635 - accuracy: 0.8001 - val_loss: 0.7169 - val_accuracy: 0.7607\n",
            "Epoch 13/20\n",
            "1250/1250 [==============================] - 251s 201ms/step - loss: 0.5329 - accuracy: 0.8110 - val_loss: 0.6892 - val_accuracy: 0.7702\n",
            "Epoch 14/20\n",
            "1250/1250 [==============================] - 252s 202ms/step - loss: 0.5116 - accuracy: 0.8184 - val_loss: 0.6838 - val_accuracy: 0.7752\n",
            "Epoch 15/20\n",
            "1250/1250 [==============================] - 253s 202ms/step - loss: 0.5029 - accuracy: 0.8216 - val_loss: 0.7035 - val_accuracy: 0.7668\n",
            "Epoch 16/20\n",
            "1250/1250 [==============================] - 251s 201ms/step - loss: 0.4799 - accuracy: 0.8301 - val_loss: 0.6916 - val_accuracy: 0.7759\n",
            "Epoch 17/20\n",
            "1250/1250 [==============================] - 251s 201ms/step - loss: 0.4592 - accuracy: 0.8376 - val_loss: 0.6721 - val_accuracy: 0.7748\n",
            "Epoch 18/20\n",
            "1250/1250 [==============================] - 250s 200ms/step - loss: 0.4450 - accuracy: 0.8426 - val_loss: 0.7222 - val_accuracy: 0.7716\n",
            "Epoch 19/20\n",
            "1250/1250 [==============================] - 253s 202ms/step - loss: 0.4333 - accuracy: 0.8492 - val_loss: 0.7121 - val_accuracy: 0.7765\n",
            "Epoch 20/20\n",
            "1250/1250 [==============================] - 251s 201ms/step - loss: 0.4224 - accuracy: 0.8510 - val_loss: 0.6917 - val_accuracy: 0.7787\n"
          ]
        }
      ]
    },
    {
      "cell_type": "markdown",
      "source": [
        "We train our model with batch size 32 and 20 epochs. We use the setting validation_split=0.2 instead of validation_data. With this shortcut, we did not need to split our dataset into a train and validation set at the start! Instead, we simply specify how much of our dataset will be used as a validation set. In this case, 20% of our dataset is used as a validation set."
      ],
      "metadata": {
        "id": "gXcbIPnq8b7g"
      }
    },
    {
      "cell_type": "markdown",
      "source": [
        "how did the training go?"
      ],
      "metadata": {
        "id": "19CVE2dK83fM"
      }
    },
    {
      "cell_type": "code",
      "source": [
        "plt.plot(hist.history['loss'])\n",
        "plt.plot(hist.history['val_loss'])\n",
        "plt.title('Model loss')\n",
        "plt.ylabel('Loss')\n",
        "plt.xlabel('Epoch')\n",
        "plt.legend(['Train', 'Val'], loc='upper right')\n",
        "plt.show()"
      ],
      "metadata": {
        "colab": {
          "base_uri": "https://localhost:8080/",
          "height": 295
        },
        "id": "WUevrK9LlTw2",
        "outputId": "18776130-7f1b-4db5-ca88-5f18e6b74cad"
      },
      "execution_count": null,
      "outputs": [
        {
          "output_type": "display_data",
          "data": {
            "text/plain": [
              "<Figure size 432x288 with 1 Axes>"
            ],
            "image/png": "[encoded data removed]"
          },
          "metadata": {
            "needs_background": "light"
          }
        }
      ]
    },
    {
      "cell_type": "markdown",
      "source": [
        "check accuracy"
      ],
      "metadata": {
        "id": "jisNTSZr89sJ"
      }
    },
    {
      "cell_type": "code",
      "source": [
        "plt.plot(hist.history['accuracy'])\n",
        "plt.plot(hist.history['val_accuracy'])\n",
        "plt.title('Model accuracy')\n",
        "plt.ylabel('Accuracy')\n",
        "plt.xlabel('Epoch')\n",
        "plt.legend(['Train', 'Val'], loc='lower right')\n",
        "plt.show()"
      ],
      "metadata": {
        "colab": {
          "base_uri": "https://localhost:8080/",
          "height": 295
        },
        "id": "peLN-X2VlXcE",
        "outputId": "afbdbb19-770f-431b-e471-a46ad48f8f73"
      },
      "execution_count": null,
      "outputs": [
        {
          "output_type": "display_data",
          "data": {
            "text/plain": [
              "<Figure size 432x288 with 1 Axes>"
            ],
            "image/png": "[encoded data removed]"
          },
          "metadata": {
            "needs_background": "light"
          }
        }
      ]
    },
    {
      "cell_type": "markdown",
      "source": [
        "my model is 77% accurate"
      ],
      "metadata": {
        "id": "mSFtSGis9FCy"
      }
    },
    {
      "cell_type": "code",
      "source": [
        "model.evaluate(x_test, y_test_one_hot)[1]"
      ],
      "metadata": {
        "colab": {
          "base_uri": "https://localhost:8080/"
        },
        "id": "TykW6xAlmFgd",
        "outputId": "9bc2179b-6f19-4dae-87b3-578a5498ac56"
      },
      "execution_count": null,
      "outputs": [
        {
          "output_type": "stream",
          "name": "stdout",
          "text": [
            "313/313 [==============================] - 14s 46ms/step - loss: 0.7367 - accuracy: 0.7706\n"
          ]
        },
        {
          "output_type": "execute_result",
          "data": {
            "text/plain": [
              "0.7706000208854675"
            ]
          },
          "metadata": {},
          "execution_count": 30
        }
      ]
    },
    {
      "cell_type": "markdown",
      "source": [
        "You can save your model for later if you lile it.  "
      ],
      "metadata": {
        "id": "ObKfrnMC9YXq"
      }
    },
    {
      "cell_type": "code",
      "source": [
        "#model.save('my_cifar10_model.h5')"
      ],
      "metadata": {
        "id": "suGCbuyamU5P"
      },
      "execution_count": null,
      "outputs": []
    },
    {
      "cell_type": "markdown",
      "source": [
        "from keras.models import load_model\n",
        "\n",
        "\n",
        "model = load_model('my_cifar10_model.h5')\n",
        "\n",
        "\n",
        "to use the model"
      ],
      "metadata": {
        "id": "ih_alPgymau3"
      }
    },
    {
      "cell_type": "markdown",
      "source": [
        " let’s try it on our own image"
      ],
      "metadata": {
        "id": "GDqAKV8C9nDa"
      }
    },
    {
      "cell_type": "code",
      "source": [
        "my_image = plt.imread(\"cat.jpg\")"
      ],
      "metadata": {
        "id": "soq8LAr7meM0"
      },
      "execution_count": null,
      "outputs": []
    },
    {
      "cell_type": "markdown",
      "source": [
        "The first thing we have to do is to resize the image of our cat so that we can fit it into our model (input size of 32 * 32 * 3). Instead of coding a resize function ourselves, let’s download a package called ‘scikit-image’ which would help us with that function."
      ],
      "metadata": {
        "id": "ZF42fFEl9ti6"
      }
    },
    {
      "cell_type": "code",
      "source": [
        "from skimage.transform import resize\n",
        "my_image_resized = resize(my_image, (32,32,3))"
      ],
      "metadata": {
        "id": "F1zhY1wbmumG"
      },
      "execution_count": null,
      "outputs": []
    },
    {
      "cell_type": "code",
      "source": [
        "img = plt.imshow(my_image_resized)"
      ],
      "metadata": {
        "colab": {
          "base_uri": "https://localhost:8080/",
          "height": 266
        },
        "id": "VrEG_K-jmyC6",
        "outputId": "df64ae72-b701-4ea0-c4f4-96f77c33acbf"
      },
      "execution_count": null,
      "outputs": [
        {
          "output_type": "display_data",
          "data": {
            "text/plain": [
              "<Figure size 432x288 with 1 Axes>"
            ],
            "image/png": "[encoded data removed]"
          },
          "metadata": {
            "needs_background": "light"
          }
        }
      ]
    },
    {
      "cell_type": "markdown",
      "source": [
        "Note that the resized image has pixel values already scaled between 0 and 1, so we need not apply the pre-processing steps that we previously did for our training image. And now, we see what our trained model will output when given an image of our cat, using the code of model.predict:"
      ],
      "metadata": {
        "id": "qRkuHU-d94Jq"
      }
    },
    {
      "cell_type": "code",
      "source": [
        "import numpy as np\n",
        "probabilities = model.predict(np.array( [my_image_resized,] ))"
      ],
      "metadata": {
        "id": "Jp0U47eTm33i"
      },
      "execution_count": null,
      "outputs": []
    },
    {
      "cell_type": "markdown",
      "source": [
        "model.predict expects a 4-D array instead of a 3-D array (with the missing dimension being the number of training examples). This is consistent with the training set and test set that we had previously. Thus, the np.array(...) code is there to change our current array of my_image_resized into a 4-D array before applying the model.predict function.\n",
        "\n",
        "The outputs of the code above are the 10 output neurons corresponding to a probability distribution over the classes. "
      ],
      "metadata": {
        "id": "peTc0TDj-DML"
      }
    },
    {
      "cell_type": "code",
      "source": [
        "probabilities"
      ],
      "metadata": {
        "colab": {
          "base_uri": "https://localhost:8080/"
        },
        "id": "d6xe2nu7m9L8",
        "outputId": "8d2614f0-31b2-4547-b3a7-995b9f344500"
      },
      "execution_count": null,
      "outputs": [
        {
          "output_type": "execute_result",
          "data": {
            "text/plain": [
              "array([[1.4409836e-03, 9.9366241e-07, 9.9618128e-03, 2.1122564e-01,\n",
              "        7.9886671e-03, 6.2392396e-01, 3.7536230e-03, 1.4153144e-01,\n",
              "        1.5532984e-04, 1.7507016e-05]], dtype=float32)"
            ]
          },
          "metadata": {},
          "execution_count": 49
        }
      ]
    },
    {
      "cell_type": "markdown",
      "source": [
        "make our model predictions easier to read."
      ],
      "metadata": {
        "id": "o5_hjMoN-KAX"
      }
    },
    {
      "cell_type": "code",
      "source": [
        "number_to_class = ['airplane', 'automobile', 'bird', 'cat', 'deer', 'dog', 'frog', 'horse', 'ship', 'truck']\n",
        "index = np.argsort(probabilities[0,:])\n",
        "print(\"Most likely class:\", number_to_class[index[9]], \"-- Probability:\", probabilities[0,index[9]])\n",
        "print(\"Second most likely class:\", number_to_class[index[8]], \"-- Probability:\", probabilities[0,index[8]])\n",
        "print(\"Third most likely class:\", number_to_class[index[7]], \"-- Probability:\", probabilities[0,index[7]])\n",
        "print(\"Fourth most likely class:\", number_to_class[index[6]], \"-- Probability:\", probabilities[0,index[6]])\n",
        "print(\"Fifth most likely class:\", number_to_class[index[5]], \"-- Probability:\", probabilities[0,index[5]])"
      ],
      "metadata": {
        "colab": {
          "base_uri": "https://localhost:8080/"
        },
        "id": "qsE42HrPaZFR",
        "outputId": "92cb014e-c9c9-4d02-9c3b-f9b515b4f23f"
      },
      "execution_count": null,
      "outputs": [
        {
          "output_type": "stream",
          "name": "stdout",
          "text": [
            "Most likely class: dog -- Probability: 0.62392396\n",
            "Second most likely class: cat -- Probability: 0.21122564\n",
            "Third most likely class: horse -- Probability: 0.14153144\n",
            "Fourth most likely class: bird -- Probability: 0.009961813\n",
            "Fifth most likely class: deer -- Probability: 0.007988667\n"
          ]
        }
      ]
    },
    {
      "cell_type": "markdown",
      "source": [
        "Well, my model thinks that it is a dog.  I would have to retrain this.  "
      ],
      "metadata": {
        "id": "Zk0SDvBf-P7K"
      }
    },
    {
      "cell_type": "markdown",
      "source": [],
      "metadata": {
        "id": "TkwdPde7yi2Y"
      }
    },
    {
      "cell_type": "markdown",
      "source": [
        "I though tI would train a train.  And i remembered that there is no train in the datas set.  so what will we get?"
      ],
      "metadata": {
        "id": "1Lv-DDBe-XDW"
      }
    },
    {
      "cell_type": "code",
      "source": [
        "my_image = plt.imread(\"train.jpg\")"
      ],
      "metadata": {
        "id": "hFfR2n75jAPD"
      },
      "execution_count": null,
      "outputs": []
    },
    {
      "cell_type": "code",
      "source": [
        "from skimage.transform import resize\n",
        "my_image_resized = resize(my_image, (32,32,3))"
      ],
      "metadata": {
        "id": "KIc90h36jFQl"
      },
      "execution_count": null,
      "outputs": []
    },
    {
      "cell_type": "code",
      "source": [
        "img = plt.imshow(my_image_resized)"
      ],
      "metadata": {
        "colab": {
          "base_uri": "https://localhost:8080/",
          "height": 266
        },
        "id": "pJ7z3XckjIrf",
        "outputId": "455a017a-f787-437d-eb7f-cab9395aad6a"
      },
      "execution_count": null,
      "outputs": [
        {
          "output_type": "display_data",
          "data": {
            "text/plain": [
              "<Figure size 432x288 with 1 Axes>"
            ],
            "image/png": "[encoded data removed]"
          },
          "metadata": {
            "needs_background": "light"
          }
        }
      ]
    },
    {
      "cell_type": "code",
      "source": [
        "import numpy as np\n",
        "probabilities = model.predict(np.array( [my_image_resized,] ))"
      ],
      "metadata": {
        "id": "DFSQLAjFjKb5"
      },
      "execution_count": null,
      "outputs": []
    },
    {
      "cell_type": "code",
      "source": [
        "probabilities"
      ],
      "metadata": {
        "colab": {
          "base_uri": "https://localhost:8080/"
        },
        "id": "fHDGvTfsjO2W",
        "outputId": "4f0738d0-e2b8-4cca-ddd0-8d519634f0df"
      },
      "execution_count": null,
      "outputs": [
        {
          "output_type": "execute_result",
          "data": {
            "text/plain": [
              "array([[6.4997665e-05, 3.6653789e-04, 1.2282229e-09, 6.3425198e-10,\n",
              "        2.1722539e-11, 1.9366989e-11, 1.6285255e-12, 1.3879309e-09,\n",
              "        4.1619869e-04, 9.9915230e-01]], dtype=float32)"
            ]
          },
          "metadata": {},
          "execution_count": 41
        }
      ]
    },
    {
      "cell_type": "code",
      "source": [
        "number_to_class = ['airplane', 'automobile', 'bird', 'cat', 'deer', 'dog', 'frog', 'horse', 'ship', 'truck']\n",
        "index = np.argsort(probabilities[0,:])\n",
        "print(\"Most likely class:\", number_to_class[index[9]], \"-- Probability:\", probabilities[0,index[9]])\n",
        "print(\"Second most likely class:\", number_to_class[index[8]], \"-- Probability:\", probabilities[0,index[8]])\n",
        "print(\"Third most likely class:\", number_to_class[index[7]], \"-- Probability:\", probabilities[0,index[7]])\n",
        "print(\"Fourth most likely class:\", number_to_class[index[6]], \"-- Probability:\", probabilities[0,index[6]])\n",
        "print(\"Fifth most likely class:\", number_to_class[index[5]], \"-- Probability:\", probabilities[0,index[5]])"
      ],
      "metadata": {
        "colab": {
          "base_uri": "https://localhost:8080/"
        },
        "id": "tv3jdaOMadpa",
        "outputId": "e44fda01-9df1-4538-f942-14884a5a89ba"
      },
      "execution_count": null,
      "outputs": [
        {
          "output_type": "stream",
          "name": "stdout",
          "text": [
            "Most likely class: truck -- Probability: 0.9991523\n",
            "Second most likely class: ship -- Probability: 0.0004161987\n",
            "Third most likely class: automobile -- Probability: 0.0003665379\n",
            "Fourth most likely class: airplane -- Probability: 6.4997665e-05\n",
            "Fifth most likely class: horse -- Probability: 1.3879309e-09\n",
            "Most likely class: truck -- Probability: 0.9991523\n",
            "Second most likely class: ship -- Probability: 0.0004161987\n",
            "Third most likely class: automobile -- Probability: 0.0003665379\n",
            "Fourth most likely class: airplane -- Probability: 6.4997665e-05\n",
            "Fifth most likely class: horse -- Probability: 1.3879309e-09\n"
          ]
        }
      ]
    },
    {
      "cell_type": "markdown",
      "source": [
        "close enough.  Give me my $100,000 "
      ],
      "metadata": {
        "id": "nqgE10f2-hJC"
      }
    }
  ]
}